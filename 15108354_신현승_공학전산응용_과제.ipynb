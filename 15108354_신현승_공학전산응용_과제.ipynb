{
  "nbformat": 4,
  "nbformat_minor": 0,
  "metadata": {
    "colab": {
      "name": "15108354 신현승 공학전산응용 과제.ipynb",
      "provenance": [],
      "collapsed_sections": [],
      "include_colab_link": true
    },
    "kernelspec": {
      "name": "python3",
      "display_name": "Python 3"
    }
  },
  "cells": [
    {
      "cell_type": "markdown",
      "metadata": {
        "id": "view-in-github",
        "colab_type": "text"
      },
      "source": [
        "<a href=\"https://colab.research.google.com/github/brianshin12/zeta/blob/master/15108354_%EC%8B%A0%ED%98%84%EC%8A%B9_%EA%B3%B5%ED%95%99%EC%A0%84%EC%82%B0%EC%9D%91%EC%9A%A9_%EA%B3%BC%EC%A0%9C.ipynb\" target=\"_parent\"><img src=\"https://colab.research.google.com/assets/colab-badge.svg\" alt=\"Open In Colab\"/></a>"
      ]
    },
    {
      "cell_type": "markdown",
      "metadata": {
        "id": "i2wOMYjyPYMc",
        "colab_type": "text"
      },
      "source": [
        "# 1장 연습문제"
      ]
    },
    {
      "cell_type": "markdown",
      "metadata": {
        "id": "e4gm6DjP4WNz",
        "colab_type": "text"
      },
      "source": [
        "Q1. 홍길동 씨의 과목별 점수는 다음과 같다. 홍길동 씨의 평균 점수를 구해보자.  \n",
        "\n",
        "과목|점수\n",
        "---|---\n",
        "국어|80\n",
        "영어|75\n",
        "수학|55"
      ]
    },
    {
      "cell_type": "code",
      "metadata": {
        "id": "XuBWAeLs4pFt",
        "colab_type": "code",
        "colab": {
          "base_uri": "https://localhost:8080/",
          "height": 36
        },
        "outputId": "aeb4dbf6-a513-4ee1-dc71-e95ddde707d0"
      },
      "source": [
        "국어= 80\n",
        "영어= 75\n",
        "수학= 55\n",
        "평균점수=(국어+영어+수학)/3\n",
        "print(평균점수)"
      ],
      "execution_count": 15,
      "outputs": [
        {
          "output_type": "stream",
          "text": [
            "70.0\n"
          ],
          "name": "stdout"
        }
      ]
    },
    {
      "cell_type": "markdown",
      "metadata": {
        "id": "5CAgiy-e5pPB",
        "colab_type": "text"
      },
      "source": [
        "Q2. 자연수 13이 홀수인지 짝수인지 판별할 수 있는 방법에 대해 말해보자."
      ]
    },
    {
      "cell_type": "code",
      "metadata": {
        "id": "-H9CY3Jm5zR9",
        "colab_type": "code",
        "colab": {
          "base_uri": "https://localhost:8080/",
          "height": 55
        },
        "outputId": "4e5faa47-3069-4557-da61-0f6ad5626036"
      },
      "source": [
        "number=int(input('숫자를 입력해 주세요:'))\n",
        "if number%2==1:\n",
        "  print('홀수입니다.')\n",
        "else:\n",
        "  print('짝수입니다.')"
      ],
      "execution_count": 12,
      "outputs": [
        {
          "output_type": "stream",
          "text": [
            "숫자를 입력해 주세요:13\n",
            "홀수입니다.\n"
          ],
          "name": "stdout"
        }
      ]
    },
    {
      "cell_type": "markdown",
      "metadata": {
        "id": "UEqrs6DN7ks4",
        "colab_type": "text"
      },
      "source": [
        "Q3. 홍길동 씨의 주민등록번호는 881120-1068234이다. 홍길동 씨의 주민등록번호를 연월일(YYYYMMDD) 부분과 그 뒤의 숫자 부분으로 나누어 출력해보자."
      ]
    },
    {
      "cell_type": "code",
      "metadata": {
        "id": "Xlw7HD-I7x7q",
        "colab_type": "code",
        "colab": {
          "base_uri": "https://localhost:8080/",
          "height": 55
        },
        "outputId": "723fd05f-342c-4538-a27e-1d3f16400c23"
      },
      "source": [
        "pin=\"881120-1068234\"\n",
        "yyyymmdd=pin[:6]\n",
        "num=pin[7:]\n",
        "print(yyyymmdd)\n",
        "print(num)"
      ],
      "execution_count": 13,
      "outputs": [
        {
          "output_type": "stream",
          "text": [
            "881120\n",
            "1068234\n"
          ],
          "name": "stdout"
        }
      ]
    },
    {
      "cell_type": "markdown",
      "metadata": {
        "id": "GlCBySSF8Gsx",
        "colab_type": "text"
      },
      "source": [
        "Q4. 주민등록번호 뒷자리의 맨 첫 번째 숫자는 성별을 나타낸다. 주민등록번호에서 성별을 나타내는 숫자를 출력해보자."
      ]
    },
    {
      "cell_type": "code",
      "metadata": {
        "id": "L4_k4kKf8O31",
        "colab_type": "code",
        "colab": {
          "base_uri": "https://localhost:8080/",
          "height": 36
        },
        "outputId": "e05d1066-449d-412a-dde7-988099bcedb0"
      },
      "source": [
        "pin=\"881120-1068234\"\n",
        "print(pin[7])"
      ],
      "execution_count": 14,
      "outputs": [
        {
          "output_type": "stream",
          "text": [
            "1\n"
          ],
          "name": "stdout"
        }
      ]
    },
    {
      "cell_type": "markdown",
      "metadata": {
        "id": "qCpt2iUkFeVU",
        "colab_type": "text"
      },
      "source": [
        "Q5. 다음과 같은 문자열 a:b:c:d가 있다. 문자열의 replace 함수를 사용하여 a#b#c#d로 바꿔서 출력해 보자."
      ]
    },
    {
      "cell_type": "code",
      "metadata": {
        "id": "3eWF2lWgF20k",
        "colab_type": "code",
        "colab": {
          "base_uri": "https://localhost:8080/",
          "height": 36
        },
        "outputId": "2446b6b9-6b82-447e-9f35-1723c059aad1"
      },
      "source": [
        "a=\"a:b:c:d\"\n",
        "b=a.replace(':','#')\n",
        "print(b)"
      ],
      "execution_count": 16,
      "outputs": [
        {
          "output_type": "stream",
          "text": [
            "a#b#c#d\n"
          ],
          "name": "stdout"
        }
      ]
    },
    {
      "cell_type": "markdown",
      "metadata": {
        "id": "Znct0rwzGBoP",
        "colab_type": "text"
      },
      "source": [
        "Q6. [1,3,5,4,2]리스트를 [5,4,3,2,1]로 만들어보자."
      ]
    },
    {
      "cell_type": "code",
      "metadata": {
        "id": "KZLqfDiQGHnh",
        "colab_type": "code",
        "colab": {
          "base_uri": "https://localhost:8080/",
          "height": 36
        },
        "outputId": "0d0406ec-7720-4425-d340-4c89a616dcac"
      },
      "source": [
        "a=[1,3,5,4,2]\n",
        "a.sort()\n",
        "a.reverse()\n",
        "print(a)"
      ],
      "execution_count": 17,
      "outputs": [
        {
          "output_type": "stream",
          "text": [
            "[5, 4, 3, 2, 1]\n"
          ],
          "name": "stdout"
        }
      ]
    },
    {
      "cell_type": "markdown",
      "metadata": {
        "id": "v7StMwACHK4L",
        "colab_type": "text"
      },
      "source": [
        "Q7. ['Life', 'is', 'too', 'short']리스트를 Life is too short 문자열로 만들어 출력해 보자."
      ]
    },
    {
      "cell_type": "code",
      "metadata": {
        "id": "jQtLNlSlHUB3",
        "colab_type": "code",
        "colab": {
          "base_uri": "https://localhost:8080/",
          "height": 36
        },
        "outputId": "e70876b7-637c-4bd4-a5ac-d088ea7694ea"
      },
      "source": [
        "a=['Life','is','too','short']\n",
        "result=\" \".join(a)\n",
        "print(result)"
      ],
      "execution_count": 19,
      "outputs": [
        {
          "output_type": "stream",
          "text": [
            "Life is too short\n"
          ],
          "name": "stdout"
        }
      ]
    },
    {
      "cell_type": "markdown",
      "metadata": {
        "id": "gqzyYJuUIJcP",
        "colab_type": "text"
      },
      "source": [
        "Q8. (1,2,3)튜플에 값 4를 추가하여 (1,2,3,4)를 만들어 출력해 보자."
      ]
    },
    {
      "cell_type": "code",
      "metadata": {
        "id": "JSl249HlISkL",
        "colab_type": "code",
        "colab": {
          "base_uri": "https://localhost:8080/",
          "height": 36
        },
        "outputId": "cc233f5b-4a54-4dca-b13b-a3644c8f11cc"
      },
      "source": [
        "a=(1,2,3)\n",
        "a=a+(4,)\n",
        "print(a)"
      ],
      "execution_count": 23,
      "outputs": [
        {
          "output_type": "stream",
          "text": [
            "(1, 2, 3, 4)\n"
          ],
          "name": "stdout"
        }
      ]
    },
    {
      "cell_type": "markdown",
      "metadata": {
        "id": "QCs0scAAIfoy",
        "colab_type": "text"
      },
      "source": [
        "Q9. 다음과 같은 딕셔너리 a가 있다.\n",
        "\n",
        "> \\>>> a = dict()  \n",
        "> \\>>> a  \n",
        "> {}\n",
        "\n",
        "다음 중 오류가 발생하는 경우를 고르고, 그 이유를 설명해보자.\n",
        "\n",
        "1. a['name']='python'\n",
        "2. a[('a',)]='python'  \n",
        "3. a[[1]]='python'\n",
        "4. a[250]='python'"
      ]
    },
    {
      "cell_type": "markdown",
      "metadata": {
        "id": "3ynnSPeXJeEN",
        "colab_type": "text"
      },
      "source": [
        "3. 딕셔너리의 Key 값은 변하는 값을 지정할 수 없다."
      ]
    },
    {
      "cell_type": "markdown",
      "metadata": {
        "id": "gPg5HuacJsZT",
        "colab_type": "text"
      },
      "source": [
        "Q10. 딕셔너리 a에서 'B'에 해당되는 값을 추출해 보자."
      ]
    },
    {
      "cell_type": "code",
      "metadata": {
        "id": "XRCIF2gAJxE0",
        "colab_type": "code",
        "colab": {
          "base_uri": "https://localhost:8080/",
          "height": 55
        },
        "outputId": "7e1c40fc-0e21-48a8-fe96-f33da50c5b60"
      },
      "source": [
        "a={'A':90, 'B':80, 'C':70}\n",
        "result=a.pop('B')\n",
        "print(a)\n",
        "print(result)"
      ],
      "execution_count": 33,
      "outputs": [
        {
          "output_type": "stream",
          "text": [
            "{'A': 90, 'C': 70}\n",
            "80\n"
          ],
          "name": "stdout"
        }
      ]
    },
    {
      "cell_type": "markdown",
      "metadata": {
        "id": "aEov_ApzLDT-",
        "colab_type": "text"
      },
      "source": [
        "Q11. a 리스트에서 중복 숫자를 제거해 보자."
      ]
    },
    {
      "cell_type": "code",
      "metadata": {
        "id": "SsOX1nSQNrP6",
        "colab_type": "code",
        "colab": {
          "base_uri": "https://localhost:8080/",
          "height": 36
        },
        "outputId": "c338e55f-a566-4ff6-ef91-591b53d2d06c"
      },
      "source": [
        "a=[1,1,1,2,2,3,3,3,4,4,5]\n",
        "aSet=set(a)\n",
        "b=list(aSet)\n",
        "print(b)"
      ],
      "execution_count": 35,
      "outputs": [
        {
          "output_type": "stream",
          "text": [
            "[1, 2, 3, 4, 5]\n"
          ],
          "name": "stdout"
        }
      ]
    },
    {
      "cell_type": "markdown",
      "metadata": {
        "id": "Rllc4CQ_OBgF",
        "colab_type": "text"
      },
      "source": [
        "Q12. 파이썬은 다음처럼 동일한 값에 여러 개의 변수를 선언할 수 있다. 다음과 같이 a,b 변수를 선언한 후 a의 첫 번째 요솟값을 변경하면 b 값은 어떻게 될까?  \n",
        "      그리고 이런 결과가 나오는 이유에 대해 설명해 보자"
      ]
    },
    {
      "cell_type": "code",
      "metadata": {
        "id": "2kMLioqPOOjF",
        "colab_type": "code",
        "colab": {
          "base_uri": "https://localhost:8080/",
          "height": 36
        },
        "outputId": "bbb876f6-b32d-4aad-86a6-f27f3df074b8"
      },
      "source": [
        "a=b=[1,2,3]\n",
        "a[1]=4\n",
        "print(b)"
      ],
      "execution_count": 36,
      "outputs": [
        {
          "output_type": "stream",
          "text": [
            "[1, 4, 3]\n"
          ],
          "name": "stdout"
        }
      ]
    },
    {
      "cell_type": "markdown",
      "metadata": {
        "id": "_hKkEOzoOjqa",
        "colab_type": "text"
      },
      "source": [
        "a,b 모두 같은 데이터의 주소를 가지고 있기 때문이다. id함수를 이용해보면 둘의 고유 주소가 같다."
      ]
    },
    {
      "cell_type": "markdown",
      "metadata": {
        "id": "pjg1D88JPd9l",
        "colab_type": "text"
      },
      "source": [
        "# 2장 연습문제"
      ]
    },
    {
      "cell_type": "markdown",
      "metadata": {
        "id": "j-TE3ZqiPgxB",
        "colab_type": "text"
      },
      "source": [
        "Q1. 다음 코드의 결괏값은 무엇일까?"
      ]
    },
    {
      "cell_type": "code",
      "metadata": {
        "id": "BDtr0gVbPkko",
        "colab_type": "code",
        "colab": {
          "base_uri": "https://localhost:8080/",
          "height": 36
        },
        "outputId": "a7d8d819-16f5-4b27-e2e7-33aa0b1e8211"
      },
      "source": [
        "a=\"Life is too short, you need python\"\n",
        "if \"wife\" in a: print('wife')\n",
        "elif \"python\" in a and \"you\" not in a: print(\"python\")\n",
        "elif \"shirt\" not in a: print (\"shirt\")\n",
        "elif \"need\" in a: print(\"need\")\n",
        "else: print(\"none\")"
      ],
      "execution_count": 38,
      "outputs": [
        {
          "output_type": "stream",
          "text": [
            "shirt\n"
          ],
          "name": "stdout"
        }
      ]
    },
    {
      "cell_type": "markdown",
      "metadata": {
        "id": "k26sllXHP-Pt",
        "colab_type": "text"
      },
      "source": [
        "Q2. while문을 사용해 1부터 1000까지의 자연수 중 3의 배수의 합을 구해 보자."
      ]
    },
    {
      "cell_type": "code",
      "metadata": {
        "id": "VxzqHXt0QUxk",
        "colab_type": "code",
        "colab": {
          "base_uri": "https://localhost:8080/",
          "height": 36
        },
        "outputId": "8c8fb9a3-697f-46c3-d36b-3f6bb9626fe3"
      },
      "source": [
        "result=0\n",
        "i=1\n",
        "while i <=1000:\n",
        "  if i%3==0:\n",
        "    result += i\n",
        "  i += 1\n",
        "\n",
        "print(result)"
      ],
      "execution_count": 40,
      "outputs": [
        {
          "output_type": "stream",
          "text": [
            "166833\n"
          ],
          "name": "stdout"
        }
      ]
    },
    {
      "cell_type": "markdown",
      "metadata": {
        "id": "ZLdoF_XpTf4R",
        "colab_type": "text"
      },
      "source": [
        "Q3. while문을 사용하여 다음과 같이 별(*)을 표시하는 프로그램을 작성해 보자.\n",
        "> \\*  \n",
        "> \\**  \n",
        "> \\***  \n",
        "> \\**\\****  \n",
        "> \\*****  "
      ]
    },
    {
      "cell_type": "code",
      "metadata": {
        "id": "sF72LeFYTwac",
        "colab_type": "code",
        "colab": {
          "base_uri": "https://localhost:8080/",
          "height": 111
        },
        "outputId": "ae49d0ca-9ab9-4cc6-d11f-695d6bbd0e23"
      },
      "source": [
        "i=0\n",
        "while True:\n",
        "  i+=1\n",
        "  if i>5: break\n",
        "  print('*'*i)"
      ],
      "execution_count": 41,
      "outputs": [
        {
          "output_type": "stream",
          "text": [
            "*\n",
            "**\n",
            "***\n",
            "****\n",
            "*****\n"
          ],
          "name": "stdout"
        }
      ]
    },
    {
      "cell_type": "markdown",
      "metadata": {
        "id": "D8a0gADSUdwO",
        "colab_type": "text"
      },
      "source": [
        "Q4 for문을 사용해 1부터 100까지의 숫자를 출력해 보자."
      ]
    },
    {
      "cell_type": "code",
      "metadata": {
        "id": "_MnsiEQ1UiH4",
        "colab_type": "code",
        "colab": {
          "base_uri": "https://localhost:8080/",
          "height": 1000
        },
        "outputId": "035f9014-415c-4b35-f8dc-f8c45b0db14b"
      },
      "source": [
        "for i in range(1,101):\n",
        "  print(i)"
      ],
      "execution_count": 42,
      "outputs": [
        {
          "output_type": "stream",
          "text": [
            "1\n",
            "2\n",
            "3\n",
            "4\n",
            "5\n",
            "6\n",
            "7\n",
            "8\n",
            "9\n",
            "10\n",
            "11\n",
            "12\n",
            "13\n",
            "14\n",
            "15\n",
            "16\n",
            "17\n",
            "18\n",
            "19\n",
            "20\n",
            "21\n",
            "22\n",
            "23\n",
            "24\n",
            "25\n",
            "26\n",
            "27\n",
            "28\n",
            "29\n",
            "30\n",
            "31\n",
            "32\n",
            "33\n",
            "34\n",
            "35\n",
            "36\n",
            "37\n",
            "38\n",
            "39\n",
            "40\n",
            "41\n",
            "42\n",
            "43\n",
            "44\n",
            "45\n",
            "46\n",
            "47\n",
            "48\n",
            "49\n",
            "50\n",
            "51\n",
            "52\n",
            "53\n",
            "54\n",
            "55\n",
            "56\n",
            "57\n",
            "58\n",
            "59\n",
            "60\n",
            "61\n",
            "62\n",
            "63\n",
            "64\n",
            "65\n",
            "66\n",
            "67\n",
            "68\n",
            "69\n",
            "70\n",
            "71\n",
            "72\n",
            "73\n",
            "74\n",
            "75\n",
            "76\n",
            "77\n",
            "78\n",
            "79\n",
            "80\n",
            "81\n",
            "82\n",
            "83\n",
            "84\n",
            "85\n",
            "86\n",
            "87\n",
            "88\n",
            "89\n",
            "90\n",
            "91\n",
            "92\n",
            "93\n",
            "94\n",
            "95\n",
            "96\n",
            "97\n",
            "98\n",
            "99\n",
            "100\n"
          ],
          "name": "stdout"
        }
      ]
    },
    {
      "cell_type": "markdown",
      "metadata": {
        "id": "vn08fTqjUrw3",
        "colab_type": "text"
      },
      "source": [
        "Q5. A 학급에 총 10명의 학생이 있다. 이 학생들의 중간고사 점수는 다음과 같다.  \n",
        "[70, 60, 55, 75, 95, 90, 80, 80, 85, 100]  \n",
        "for문을 사용하여 A학급의 평균 점수를 구해보자."
      ]
    },
    {
      "cell_type": "code",
      "metadata": {
        "id": "kZXRvJ50UnVA",
        "colab_type": "code",
        "colab": {
          "base_uri": "https://localhost:8080/",
          "height": 36
        },
        "outputId": "fdf63920-05ee-4427-8c4f-78daf9284869"
      },
      "source": [
        "A=[70, 60, 55, 75, 95, 90, 80, 80, 85, 100]\n",
        "total=0\n",
        "for score in A:\n",
        "  total += score\n",
        "average=total/len(A)\n",
        "print(average)"
      ],
      "execution_count": 44,
      "outputs": [
        {
          "output_type": "stream",
          "text": [
            "79.0\n"
          ],
          "name": "stdout"
        }
      ]
    },
    {
      "cell_type": "markdown",
      "metadata": {
        "id": "ObBCqCNPVfMO",
        "colab_type": "text"
      },
      "source": [
        "Q6. 리스트 중에서 홀수에만 2를 곱하여 저장하는 다음 코드가 있다."
      ]
    },
    {
      "cell_type": "code",
      "metadata": {
        "id": "qfwOGE2yVStf",
        "colab_type": "code",
        "colab": {}
      },
      "source": [
        "numbers=[1,2,3,4,5]\n",
        "\n",
        "result=[]\n",
        "for n in numbers:\n",
        "  if n%2==1:\n",
        "    result.append(n*2)"
      ],
      "execution_count": 0,
      "outputs": []
    },
    {
      "cell_type": "markdown",
      "metadata": {
        "id": "latK077oVslz",
        "colab_type": "text"
      },
      "source": [
        "위 코드를 리스트 내포(list comprehension)를 사용하여 표현해 보자."
      ]
    },
    {
      "cell_type": "code",
      "metadata": {
        "id": "qR5MevM8VrnJ",
        "colab_type": "code",
        "colab": {
          "base_uri": "https://localhost:8080/",
          "height": 36
        },
        "outputId": "90ca850a-d7de-4fda-e384-6f90e18723e3"
      },
      "source": [
        "numbers=[1,2,3,4,5]\n",
        "result=[n*2 for n in numbers if n%2==1]\n",
        "print(result)"
      ],
      "execution_count": 48,
      "outputs": [
        {
          "output_type": "stream",
          "text": [
            "[2, 6, 10]\n"
          ],
          "name": "stdout"
        }
      ]
    }
  ]
}