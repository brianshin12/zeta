{
  "nbformat": 4,
  "nbformat_minor": 0,
  "metadata": {
    "colab": {
      "name": "Chapter 5&Assignment.ipynb",
      "provenance": [],
      "collapsed_sections": [],
      "include_colab_link": true
    },
    "kernelspec": {
      "name": "python3",
      "display_name": "Python 3"
    }
  },
  "cells": [
    {
      "cell_type": "markdown",
      "metadata": {
        "id": "view-in-github",
        "colab_type": "text"
      },
      "source": [
        "<a href=\"https://colab.research.google.com/github/brianshin12/zeta/blob/master/Chapter_5%26Assignment.ipynb\" target=\"_parent\"><img src=\"https://colab.research.google.com/assets/colab-badge.svg\" alt=\"Open In Colab\"/></a>"
      ]
    },
    {
      "cell_type": "markdown",
      "metadata": {
        "id": "wcQo-ibrS0LP",
        "colab_type": "text"
      },
      "source": [
        "## 5장 연습문제"
      ]
    },
    {
      "cell_type": "markdown",
      "metadata": {
        "id": "wTsrm_jSYbSc",
        "colab_type": "text"
      },
      "source": [
        " Q1. 다음은 Calculator 클래스이다.  \n",
        " \n",
        "      class Calculator:  \n",
        "        def __init__(self):  \n",
        "          self.value=0  \n",
        "        def add(self, val):\n",
        "          self.value += val\n",
        "\n",
        "위 클래스를 상속하는 UpgradeCalculator를 만들고 값을 뺄 수 있는 minus 메서드를 추가해 보자.  \n",
        "즉 다음과 같이 동작하는 클래스를 만들어야 한다.  \n",
        "\n",
        "      cal = UpgradeCalculator()  \n",
        "      cal.add(10)  \n",
        "      cal.minus(7)  \n",
        "\n",
        "      print(cal.value)"
      ]
    },
    {
      "cell_type": "code",
      "metadata": {
        "id": "K4YF2t_bYUc9",
        "colab_type": "code",
        "colab": {}
      },
      "source": [
        " class Calculator:  \n",
        "    def __init__(self):  \n",
        "      self.value=0  \n",
        "    def add(self, val):\n",
        "      self.value += val"
      ],
      "execution_count": 0,
      "outputs": []
    },
    {
      "cell_type": "code",
      "metadata": {
        "id": "dqD-Z3QnabXL",
        "colab_type": "code",
        "colab": {
          "base_uri": "https://localhost:8080/",
          "height": 36
        },
        "outputId": "50c2b068-0ec2-4bf6-8125-ed349cf70978"
      },
      "source": [
        "class UpgradeCalculator(Calculator):\n",
        "  def minus (self, val):\n",
        "    self.value -= val\n",
        "\n",
        "cal=UpgradeCalculator()\n",
        "cal.add(10)\n",
        "cal.minus(7)\n",
        "\n",
        "print(cal.value)"
      ],
      "execution_count": 2,
      "outputs": [
        {
          "output_type": "stream",
          "text": [
            "3\n"
          ],
          "name": "stdout"
        }
      ]
    },
    {
      "cell_type": "markdown",
      "metadata": {
        "id": "G6D76E1Da_eJ",
        "colab_type": "text"
      },
      "source": [
        "Q2. 객체변수 value가 100 이상의 값은 가질 수 없도록 제한하는 MaxLimitCalculator 클래스를 만들어 보자. 즉 다음과 같이 동작해야 한다.  \n",
        "\n",
        "    cal=MaxLimitCalculator()  \n",
        "    cal.add(50) # 50 더하기  \n",
        "    cal.add(60) # 60 더하기  \n",
        "  \n",
        "    print(cal.value) # 100 출력  \n",
        "\n",
        "단 반드시 다음과 같은 Calculator 클래스를 상속해서 만들어야 한다.  \n",
        "\n",
        "    class Calculator:  \n",
        "      def __init__(self):\n",
        "        self. value = 0\n",
        "\n",
        "      def add(self, val):\n",
        "        self.value += val"
      ]
    },
    {
      "cell_type": "code",
      "metadata": {
        "id": "t7H_22iockv9",
        "colab_type": "code",
        "colab": {}
      },
      "source": [
        "class MaxLimitCalculator(Calculator):\n",
        "  def add(self, val):\n",
        "    self.value += val\n",
        "    if self.value >= 100:\n",
        "      self.value = 100"
      ],
      "execution_count": 0,
      "outputs": []
    },
    {
      "cell_type": "code",
      "metadata": {
        "id": "Xe1hNiIXccBY",
        "colab_type": "code",
        "colab": {
          "base_uri": "https://localhost:8080/",
          "height": 36
        },
        "outputId": "794c603b-9350-4c56-c6a0-74175096cbae"
      },
      "source": [
        "cal=MaxLimitCalculator()\n",
        "cal.add(50)\n",
        "cal.add(60)\n",
        "\n",
        "print(cal.value)"
      ],
      "execution_count": 7,
      "outputs": [
        {
          "output_type": "stream",
          "text": [
            "100\n"
          ],
          "name": "stdout"
        }
      ]
    },
    {
      "cell_type": "markdown",
      "metadata": {
        "id": "3W7ZbeZ5cphU",
        "colab_type": "text"
      },
      "source": [
        "Q3. 다음 결과를 예측해보자.  \n",
        "1. all([1,2,abs(-3)-3])  \n",
        "2. chr(ord('a')) == 'a'  \n",
        "\n",
        "* False  \n",
        "* True"
      ]
    },
    {
      "cell_type": "code",
      "metadata": {
        "id": "1Ib0AnOicfyC",
        "colab_type": "code",
        "colab": {
          "base_uri": "https://localhost:8080/",
          "height": 36
        },
        "outputId": "ebc01683-20e7-41b3-db35-ea00b83e2847"
      },
      "source": [
        "all([1,2,abs(-3)-3])"
      ],
      "execution_count": 8,
      "outputs": [
        {
          "output_type": "execute_result",
          "data": {
            "text/plain": [
              "False"
            ]
          },
          "metadata": {
            "tags": []
          },
          "execution_count": 8
        }
      ]
    },
    {
      "cell_type": "code",
      "metadata": {
        "id": "JIK90a63eEAO",
        "colab_type": "code",
        "colab": {
          "base_uri": "https://localhost:8080/",
          "height": 36
        },
        "outputId": "d75faefd-fe3e-48d1-ac35-f1fe7dc995a1"
      },
      "source": [
        "chr(ord('a'))=='a'"
      ],
      "execution_count": 10,
      "outputs": [
        {
          "output_type": "execute_result",
          "data": {
            "text/plain": [
              "True"
            ]
          },
          "metadata": {
            "tags": []
          },
          "execution_count": 10
        }
      ]
    },
    {
      "cell_type": "markdown",
      "metadata": {
        "id": "pR5UIYWGeRLp",
        "colab_type": "text"
      },
      "source": [
        "Q4. filter와 lambda를 사용하여 리스트 [1, -2, 3, -5, 8, -3]에서 음수를 모두 제거해 보자."
      ]
    },
    {
      "cell_type": "code",
      "metadata": {
        "id": "ZAjf4dJneF1z",
        "colab_type": "code",
        "colab": {
          "base_uri": "https://localhost:8080/",
          "height": 36
        },
        "outputId": "a1bb5e52-3914-4c97-c294-86daabb3becc"
      },
      "source": [
        "list(filter(lambda x:x>0, [1, -2, 3, -5, 8, -3]))"
      ],
      "execution_count": 11,
      "outputs": [
        {
          "output_type": "execute_result",
          "data": {
            "text/plain": [
              "[1, 3, 8]"
            ]
          },
          "metadata": {
            "tags": []
          },
          "execution_count": 11
        }
      ]
    },
    {
      "cell_type": "markdown",
      "metadata": {
        "id": "HpGho7DufI6w",
        "colab_type": "text"
      },
      "source": [
        "Q5. 234라는 10진수의 16진수는 다음과 같이 구할 수 있다.  \n",
        "\n",
        "    >>> hex(234)  \n",
        "    '0xea'\n",
        "이번에는 반대로 16진수 문자열 0xea를 10진수로 변경해 보자."
      ]
    },
    {
      "cell_type": "code",
      "metadata": {
        "id": "AwfWP_zzfEiC",
        "colab_type": "code",
        "colab": {
          "base_uri": "https://localhost:8080/",
          "height": 36
        },
        "outputId": "b728bd41-b7c0-48e9-fedb-74c5f81e00f8"
      },
      "source": [
        "int('0xea', 16)"
      ],
      "execution_count": 12,
      "outputs": [
        {
          "output_type": "execute_result",
          "data": {
            "text/plain": [
              "234"
            ]
          },
          "metadata": {
            "tags": []
          },
          "execution_count": 12
        }
      ]
    },
    {
      "cell_type": "markdown",
      "metadata": {
        "id": "WSNJVoC9j9fn",
        "colab_type": "text"
      },
      "source": [
        "Q6. map과 lambda를 사용하여 [1, 2, 3, 4] 리스트의 각 요솟값에 3이 곱해진 리스트 [3, 6, 9, 12]를 만들어 보자."
      ]
    },
    {
      "cell_type": "code",
      "metadata": {
        "id": "La5we_gsfmp7",
        "colab_type": "code",
        "colab": {
          "base_uri": "https://localhost:8080/",
          "height": 36
        },
        "outputId": "a3614d3a-8387-4b21-b52c-bdec8829960f"
      },
      "source": [
        "list(map(lambda x:x*3, [1,2,3,4]))"
      ],
      "execution_count": 13,
      "outputs": [
        {
          "output_type": "execute_result",
          "data": {
            "text/plain": [
              "[3, 6, 9, 12]"
            ]
          },
          "metadata": {
            "tags": []
          },
          "execution_count": 13
        }
      ]
    },
    {
      "cell_type": "markdown",
      "metadata": {
        "id": "1Dk0lbaVk-jr",
        "colab_type": "text"
      },
      "source": [
        "Q7. 다음 리스트의 최댓값과 최솟값의 합을 구해 보자.  \n",
        "[-8, 2, 7, 5, -3, 5, 0, 1]"
      ]
    },
    {
      "cell_type": "code",
      "metadata": {
        "id": "RxZpaS7JlFFf",
        "colab_type": "code",
        "colab": {
          "base_uri": "https://localhost:8080/",
          "height": 36
        },
        "outputId": "46c60fba-e847-4264-ab9a-6bdd30f668fe"
      },
      "source": [
        "a = [-8, 2, 7, 5, -3, 5, 0, 1]\n",
        "max(a) + min(a)"
      ],
      "execution_count": 16,
      "outputs": [
        {
          "output_type": "execute_result",
          "data": {
            "text/plain": [
              "-1"
            ]
          },
          "metadata": {
            "tags": []
          },
          "execution_count": 16
        }
      ]
    },
    {
      "cell_type": "markdown",
      "metadata": {
        "id": "IxL3B0_xkPtv",
        "colab_type": "text"
      },
      "source": [
        "Q8. 17/3의 결과는 다음과 같다."
      ]
    },
    {
      "cell_type": "code",
      "metadata": {
        "id": "nwqijZMdkO5m",
        "colab_type": "code",
        "colab": {
          "base_uri": "https://localhost:8080/",
          "height": 36
        },
        "outputId": "076862f4-2e61-4ce5-8920-1411c5d4432c"
      },
      "source": [
        "17/3"
      ],
      "execution_count": 17,
      "outputs": [
        {
          "output_type": "execute_result",
          "data": {
            "text/plain": [
              "5.666666666666667"
            ]
          },
          "metadata": {
            "tags": []
          },
          "execution_count": 17
        }
      ]
    },
    {
      "cell_type": "markdown",
      "metadata": {
        "id": "A4N96bE8kk9v",
        "colab_type": "text"
      },
      "source": [
        "위와 같은 결괏값 5.666666666666667을 소숫점 4자리까지만 반올림하여 표시해 보자."
      ]
    },
    {
      "cell_type": "code",
      "metadata": {
        "id": "tp_uh3vjkj7P",
        "colab_type": "code",
        "colab": {
          "base_uri": "https://localhost:8080/",
          "height": 36
        },
        "outputId": "bba35bb2-34de-42a9-8407-4410cc4ec18d"
      },
      "source": [
        "round(17/3, 4)"
      ],
      "execution_count": 18,
      "outputs": [
        {
          "output_type": "execute_result",
          "data": {
            "text/plain": [
              "5.6667"
            ]
          },
          "metadata": {
            "tags": []
          },
          "execution_count": 18
        }
      ]
    },
    {
      "cell_type": "markdown",
      "metadata": {
        "id": "ikAvJMldlfX5",
        "colab_type": "text"
      },
      "source": [
        "Q9. 다음과 같이 실행할 때 입력값을 모두 더하여 출력하는 스크립트를 작성해보자."
      ]
    },
    {
      "cell_type": "code",
      "metadata": {
        "id": "0ow5SIvLmC1r",
        "colab_type": "code",
        "colab": {
          "base_uri": "https://localhost:8080/",
          "height": 36
        },
        "outputId": "9e724b4b-895c-4a0d-e709-1cc6333912d2"
      },
      "source": [
        "%%writefile myargv.py\n",
        "import sys\n",
        "\n",
        "numbers = sys.argv[1:]\n",
        "\n",
        "result = 0\n",
        "for number in numbers:\n",
        "    result += int(number)\n",
        "print(result)"
      ],
      "execution_count": 21,
      "outputs": [
        {
          "output_type": "stream",
          "text": [
            "Writing myargv.py\n"
          ],
          "name": "stdout"
        }
      ]
    },
    {
      "cell_type": "code",
      "metadata": {
        "id": "r1Qni1DhpJU1",
        "colab_type": "code",
        "colab": {
          "base_uri": "https://localhost:8080/",
          "height": 36
        },
        "outputId": "049a5d0c-436d-4532-8b4d-c87ff3b35e86"
      },
      "source": [
        "%ls"
      ],
      "execution_count": 25,
      "outputs": [
        {
          "output_type": "stream",
          "text": [
            "myargv.py  \u001b[0m\u001b[01;34msample_data\u001b[0m/\n"
          ],
          "name": "stdout"
        }
      ]
    },
    {
      "cell_type": "code",
      "metadata": {
        "id": "klnMf9OPn9Pn",
        "colab_type": "code",
        "colab": {
          "base_uri": "https://localhost:8080/",
          "height": 36
        },
        "outputId": "d8d6fd41-fb44-45a9-d81a-ea28f4af06dc"
      },
      "source": [
        "%run myargv.py 1 2 3 4 5 6 7 8 9 10"
      ],
      "execution_count": 24,
      "outputs": [
        {
          "output_type": "stream",
          "text": [
            "55\n"
          ],
          "name": "stdout"
        }
      ]
    },
    {
      "cell_type": "markdown",
      "metadata": {
        "id": "vYiWpUOPpO3r",
        "colab_type": "text"
      },
      "source": [
        " Q10. os 모듈을 사용하여 다음과 같이 동작하도록 코드를 작성해 보자.  \n",
        " 1. 해당 디렉토리로 이동한다.  \n",
        " 2. dir 명령을 실행하고 그 결과를 변수에 담는다.\n",
        " 3. dir 명령의 결과를 출력한다."
      ]
    },
    {
      "cell_type": "code",
      "metadata": {
        "id": "fyzmsUSgpDBv",
        "colab_type": "code",
        "colab": {
          "base_uri": "https://localhost:8080/",
          "height": 36
        },
        "outputId": "dd947035-1606-485b-c334-8319d5a34111"
      },
      "source": [
        "from google.colab import drive \n",
        "drive.mount('/content/drive')"
      ],
      "execution_count": 31,
      "outputs": [
        {
          "output_type": "stream",
          "text": [
            "Drive already mounted at /content/drive; to attempt to forcibly remount, call drive.mount(\"/content/drive\", force_remount=True).\n"
          ],
          "name": "stdout"
        }
      ]
    },
    {
      "cell_type": "code",
      "metadata": {
        "id": "pokx38PCx83D",
        "colab_type": "code",
        "colab": {
          "base_uri": "https://localhost:8080/",
          "height": 73
        },
        "outputId": "ffd01fd1-9e3c-49f7-8ccb-317e4d307486"
      },
      "source": [
        "import os\n",
        "os. chdir(\"/content/drive/My Drive/doit\")\n",
        "result = os.popen(\"dir\")\n",
        "print(result.read())"
      ],
      "execution_count": 34,
      "outputs": [
        {
          "output_type": "stream",
          "text": [
            "새파일2.txt  Hello.py  opener.py    readline.py  Shin.py\n",
            "새파일3.txt  mod1.py   __pycache__  sample.py\t 새파일.txt\n",
            "\n"
          ],
          "name": "stdout"
        }
      ]
    },
    {
      "cell_type": "markdown",
      "metadata": {
        "id": "RIx42DtlyLAg",
        "colab_type": "text"
      },
      "source": [
        "Q11. glob 모듈을 이용하여 디렉토리의 파일 중 확장자가 .py인 파일만 출력하는 프로그램을 작성해보자."
      ]
    },
    {
      "cell_type": "code",
      "metadata": {
        "id": "eOmUhcQRwuHu",
        "colab_type": "code",
        "colab": {
          "base_uri": "https://localhost:8080/",
          "height": 129
        },
        "outputId": "3ac96a93-0225-4513-ae98-588c167e8fab"
      },
      "source": [
        "import glob\n",
        "glob.glob(\"/content/drive/My Drive/doit/*.py\")\n"
      ],
      "execution_count": 35,
      "outputs": [
        {
          "output_type": "execute_result",
          "data": {
            "text/plain": [
              "['/content/drive/My Drive/doit/readline.py',\n",
              " '/content/drive/My Drive/doit/mod1.py',\n",
              " '/content/drive/My Drive/doit/sample.py',\n",
              " '/content/drive/My Drive/doit/opener.py',\n",
              " '/content/drive/My Drive/doit/Shin.py',\n",
              " '/content/drive/My Drive/doit/Hello.py']"
            ]
          },
          "metadata": {
            "tags": []
          },
          "execution_count": 35
        }
      ]
    },
    {
      "cell_type": "markdown",
      "metadata": {
        "id": "EUdDhlj8yn3v",
        "colab_type": "text"
      },
      "source": [
        "Q12. time 모듈을 사용하여 현재 날짜와 시간을 다음과 같은 형식으로 추력해보자."
      ]
    },
    {
      "cell_type": "code",
      "metadata": {
        "id": "HtoaGgXxyj6H",
        "colab_type": "code",
        "colab": {
          "base_uri": "https://localhost:8080/",
          "height": 36
        },
        "outputId": "3ba5c668-c294-4d42-988e-91116645fe2a"
      },
      "source": [
        "import time\n",
        "time.strftime(\"%Y/%m/%d %H:%M:%S\")"
      ],
      "execution_count": 36,
      "outputs": [
        {
          "output_type": "execute_result",
          "data": {
            "text/plain": [
              "'2019/10/09 09:13:24'"
            ]
          },
          "metadata": {
            "tags": []
          },
          "execution_count": 36
        }
      ]
    },
    {
      "cell_type": "markdown",
      "metadata": {
        "id": "bYI1vj-NzPDn",
        "colab_type": "text"
      },
      "source": [
        "Q13. random 모듈을 사용하여 로또 번호(1~45 사이의 숫자 6개)를 생성해 보자. (단 중복된 숫자가 있으면 안 됨.)"
      ]
    },
    {
      "cell_type": "code",
      "metadata": {
        "id": "zbovtknky2DI",
        "colab_type": "code",
        "colab": {
          "base_uri": "https://localhost:8080/",
          "height": 36
        },
        "outputId": "0f5e7a78-3ceb-4d20-f6be-098a0dcf4e28"
      },
      "source": [
        "import random\n",
        " \n",
        "result = []\n",
        "while len(result) < 6:\n",
        "    num = random.randint(1, 45)\n",
        "    if num not in result:\n",
        "        result.append(num)\n",
        "\n",
        "print(result)"
      ],
      "execution_count": 37,
      "outputs": [
        {
          "output_type": "stream",
          "text": [
            "[7, 5, 3, 15, 43, 36]\n"
          ],
          "name": "stdout"
        }
      ]
    },
    {
      "cell_type": "markdown",
      "metadata": {
        "id": "_XZt1QFq6TY2",
        "colab_type": "text"
      },
      "source": [
        "#### __init__.py의 용도  \n",
        "* \\_\\_init__.py 파일은 해당 디렉토리가 패키지의 일부임을 알려주는 역할입니다.  \n",
        "디렉터리에 \\_\\_init__.py 파일이 없다면 패키지로 인식되지 않을 수도 있습니다.  \n",
        "\n",
        "#### __all__의 용도  \n",
        "* 패키지의 \\_\\_init__.py에서 from .모듈 import 변수, 함수, 클래스 또는 from .모듈 import * 형식으로 작성했다면  \n",
        " 패키지.함수() 형식으로 사용할 수 있습니다(변수, 클래스도 같은 형식).  \n",
        "* 패키지의 \\_\\_init\\_\\_.py에서 from .모듈 import \\*로 모든 변수, 함수, 클래스를 가져오면 패키지 외부에 공개하고 싶지 않은 것까지 공개하게 됩니다. 이때는 \\_\\_all__에 공개할 모듈, 변수, 함수, 클래스를 리스트 형태로 지정해주면 됩니다. \\_\\_all\\_\\_이라는 이름 그대로 모든 것(*)을 가져갈 때의 목록을 정합니다."
      ]
    },
    {
      "cell_type": "markdown",
      "metadata": {
        "id": "_uqu2vwNSJfi",
        "colab_type": "text"
      },
      "source": [
        "> C:/doit/game/sound/\\_\\_init\\_\\_.py  파일  \n",
        "\\_\\_all\\_\\_=['내가 원하는 변수', '내가 원하는 함수', '내가 원하는 클래스']"
      ]
    }
  ]
}