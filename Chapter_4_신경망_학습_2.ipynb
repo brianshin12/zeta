{
  "nbformat": 4,
  "nbformat_minor": 0,
  "metadata": {
    "colab": {
      "name": "Chapter 4. 신경망 학습 2",
      "provenance": [],
      "collapsed_sections": [],
      "include_colab_link": true
    },
    "kernelspec": {
      "name": "python3",
      "display_name": "Python 3"
    }
  },
  "cells": [
    {
      "cell_type": "markdown",
      "metadata": {
        "id": "view-in-github",
        "colab_type": "text"
      },
      "source": [
        "<a href=\"https://colab.research.google.com/github/brianshin12/zeta/blob/master/Chapter_4_%EC%8B%A0%EA%B2%BD%EB%A7%9D_%ED%95%99%EC%8A%B5_2.ipynb\" target=\"_parent\"><img src=\"https://colab.research.google.com/assets/colab-badge.svg\" alt=\"Open In Colab\"/></a>"
      ]
    },
    {
      "cell_type": "code",
      "metadata": {
        "id": "atCeHOcp2mFi",
        "colab_type": "code",
        "outputId": "acb3a574-388d-456c-9403-50232b3ff3cd",
        "colab": {
          "base_uri": "https://localhost:8080/",
          "height": 36
        }
      },
      "source": [
        "from google.colab import drive\n",
        "drive.mount('/content/gdrive')"
      ],
      "execution_count": 97,
      "outputs": [
        {
          "output_type": "stream",
          "text": [
            "Mounted at /content/gdrive\n"
          ],
          "name": "stdout"
        }
      ]
    },
    {
      "cell_type": "code",
      "metadata": {
        "id": "RG6kiqPu0v6-",
        "colab_type": "code",
        "outputId": "32682fc5-6296-4d3c-c23d-8270c1bfe2ca",
        "colab": {
          "base_uri": "https://localhost:8080/",
          "height": 36
        }
      },
      "source": [
        "from google.colab import drive \n",
        "drive.mount('/content/drive')"
      ],
      "execution_count": 98,
      "outputs": [
        {
          "output_type": "stream",
          "text": [
            "Mounted at /content/drive\n"
          ],
          "name": "stdout"
        }
      ]
    },
    {
      "cell_type": "code",
      "metadata": {
        "id": "3JgII8CxxXB6",
        "colab_type": "code",
        "colab": {}
      },
      "source": [
        "import sys\n",
        "import os\n",
        "sys.path.insert(0, '/content/gdrive/My Drive/Colab Notebooks/dataset/')\n",
        "import mnist\n",
        "from mnist import load_mnist \n",
        "import numpy as np\n",
        "import matplotlib.pylab as plt\n",
        "sys.path.insert(0, '/content/gdrive/My Drive/Colab Notebooks/common')\n",
        "from functions import softmax, cross_entropy_error\n",
        "from gradient import numerical_gradient\n",
        "def sigmoid(x):\n",
        "  return 1 / (1+np.exp(-x))"
      ],
      "execution_count": 0,
      "outputs": []
    },
    {
      "cell_type": "markdown",
      "metadata": {
        "id": "0vDjeTZs1EcG",
        "colab_type": "text"
      },
      "source": [
        "# 신경망 학습  \n",
        "\n",
        "* 학습  \n",
        "    훈련 데이터로부터 가중치 매개변수의 최적값을 자동으로 획득하는 것을 뜻합니다.  \n",
        "* 손실 함수\n",
        "    신경망이 학습할 수 있도록 해주는 지표  \n",
        "    손실 함수의 결괏값을 가장 작게 만드는 가중치 매개변수를 찾는 것이 목표  \n",
        "\n",
        "## 4.1 데이터에서 학습한다!  \n",
        "\n",
        "* 신경망의 특징: 데이터를 보고 학습, 가중치 매개변수의 값을 데이터를 보고 자동으로 결정  \n",
        "\n",
        "### 4.1.1 데이터 주도 학습  \n",
        "\n",
        "* 기계학습의 핵심: 데이터, 사람의 개입을 최소화 수집한 데이터로부터 패턴 발견  \n",
        "    Ex)'5'를 분류하는 프로그램\n",
        "    * 알고리즘을 밑바닥부터 설계하는 대신, 주어진 데이터를 잘 활용  \n",
        "    신경망: 이미지에 포함된 중요한 특징까지 있는 그대로 학습.(종단간 기계학습)  \n",
        "    \n",
        "### 4.1.2 훈련데이터와 시험데이터  \n",
        "\n",
        "* 훈련데이터&시험데이터  \n",
        "    * 훈련데이터: 훈련데이터만을 이용하여 최적의 매개변수를 찾는다.\n",
        "    * 시험데이터: 시험데이터를 사용하여 앞서 훈련한 모델의 실력을 평가, 범용능력을 평가  \n",
        "    * 오버피팅: 한 데이터셋에만 지나치게 최적화된 상태\n",
        "    \n",
        "## 4.2 손실 함수  \n",
        "\n",
        "* 신경망 학습에서는 현재의 상태를 '하나의 지표'(손실 함수)로 표현  \n",
        "    그 지표(손실 함수)를 가장 좋게 만들어주는 가중치 매개변수의 값을 탐색  \n",
        "    일반적으로 편균 제곱 오차와 교차 엔트로피 오차 사용  \n",
        "    \n",
        "### 4.2.1 평균 제곱 오차  \n",
        "$$E = {\\sum_{}^{} ({y_k-t_k})^2\\over2}$$  \n",
        "* y: 신경망이 추정한 값\n",
        "* t: 정답 레이블\n",
        "* k: 데이터 차원 수"
      ]
    },
    {
      "cell_type": "code",
      "metadata": {
        "id": "KgSUY9QP1eC1",
        "colab_type": "code",
        "outputId": "a4c89317-4cb3-4d8f-813f-4ceb042a1466",
        "colab": {
          "base_uri": "https://localhost:8080/",
          "height": 36
        }
      },
      "source": [
        "def mean_squared_error(y,t):\n",
        "    return 0.5*np.sum((y-t)**2)\n",
        "\n",
        "t=[0,0,1,0,0,0,0,0,0,0] #정답은 2\n",
        "y=[0.1, 0.05, 0.6, 0.0, 0.05, 0.1, 0.0, 0.1, 0.0, 0.0] #'2'일 확률이 가장 높다고 추정 (소프트맥스 함수의 출력)\n",
        "mean_squared_error(np.array(y), np.array(t)) #아래의 예시보다 오차가 더 작다, 정답에 더 가까울 것으로 판단"
      ],
      "execution_count": 0,
      "outputs": [
        {
          "output_type": "execute_result",
          "data": {
            "text/plain": [
              "0.09750000000000003"
            ]
          },
          "metadata": {
            "tags": []
          },
          "execution_count": 75
        }
      ]
    },
    {
      "cell_type": "code",
      "metadata": {
        "id": "BuAuEij71hHT",
        "colab_type": "code",
        "outputId": "2859d003-b4d3-4a20-bb1e-7b5951b3cc55",
        "colab": {
          "base_uri": "https://localhost:8080/",
          "height": 36
        }
      },
      "source": [
        "y=[0.1, 0.05, 0.1, 0.0, 0.05, 0.1, 0.0, 0.6, 0.0, 0.0] #'7'일 확률이 가장 높다고 추정 \n",
        "mean_squared_error(np.array(y), np.array(t))"
      ],
      "execution_count": 0,
      "outputs": [
        {
          "output_type": "execute_result",
          "data": {
            "text/plain": [
              "0.5975"
            ]
          },
          "metadata": {
            "tags": []
          },
          "execution_count": 76
        }
      ]
    },
    {
      "cell_type": "markdown",
      "metadata": {
        "id": "9egtY08J1qDL",
        "colab_type": "text"
      },
      "source": [
        "### 4.2.2 교차 엔트로피 오차  \n",
        "$$E = {-\\sum_{}^{} t_k ln y_k}$$  \n",
        "* y:신경망의 출력  \n",
        "* t:정답 레이블  \n",
        "    t: 정답에 해당하는 인덱스의 원소만 1이고 나머지는 0 (원-핫 인코딩)"
      ]
    },
    {
      "cell_type": "code",
      "metadata": {
        "id": "Wp-o2qcf1vtp",
        "colab_type": "code",
        "outputId": "83fd769e-52de-4f99-b413-1872cdf4e070",
        "colab": {
          "base_uri": "https://localhost:8080/",
          "height": 36
        }
      },
      "source": [
        "def cross_entropy_error(y,t):\n",
        "    delta=1e-7 #마이너스 무한대 방지\n",
        "    return -np.sum(t*np.log(y+delta))\n",
        "\n",
        "t=[0,0,1,0,0,0,0,0,0,0]\n",
        "y=[0.1, 0.05, 0.6, 0.0, 0.05, 0.1, 0.0, 0.1, 0.0, 0.0]\n",
        "cross_entropy_error(np.array(y), np.array(t))"
      ],
      "execution_count": 0,
      "outputs": [
        {
          "output_type": "execute_result",
          "data": {
            "text/plain": [
              "0.510825457099338"
            ]
          },
          "metadata": {
            "tags": []
          },
          "execution_count": 77
        }
      ]
    },
    {
      "cell_type": "code",
      "metadata": {
        "id": "cRHSMh8n1xx2",
        "colab_type": "code",
        "outputId": "333fa69a-8839-4269-c66d-79340e5ade23",
        "colab": {
          "base_uri": "https://localhost:8080/",
          "height": 36
        }
      },
      "source": [
        "y=[0.1, 0.05, 0.1, 0.0, 0.05, 0.1, 0.0, 0.6, 0.0, 0.0]\n",
        "cross_entropy_error(np.array(y), np.array(t))"
      ],
      "execution_count": 0,
      "outputs": [
        {
          "output_type": "execute_result",
          "data": {
            "text/plain": [
              "2.302584092994546"
            ]
          },
          "metadata": {
            "tags": []
          },
          "execution_count": 78
        }
      ]
    },
    {
      "cell_type": "markdown",
      "metadata": {
        "id": "Wi06K_no1-Ix",
        "colab_type": "text"
      },
      "source": [
        "### 4.2.3 미니배치 학습  \n",
        "* 훈련 데이터 모두에 대한 손실함수의 합\n",
        "$$E = {-{1 \\over N} \\times \\sum_{n}^{} \\sum_{k}^{} t_{nk} ln y_{nk}}$$  \n",
        "\n",
        "* 많은 데이터를 대상으로 일일이 손실 함수를 계산하는 것은 현실적이지 않다.  \n",
        "    데이터를 일부 추려 전체의 '근사치'로 이용 → 미니배치 학습"
      ]
    },
    {
      "cell_type": "code",
      "metadata": {
        "id": "n3R-KlAI2DNv",
        "colab_type": "code",
        "colab": {}
      },
      "source": [
        "#mnist dataset을 읽어오는 코드\n",
        "(x_train, t_train), (x_test, t_test)=\\\n",
        "    load_mnist(normalize=True, one_hot_label=True)\n",
        "\n",
        "print(x_train.shape) #훈련 데이터는 60000개, 입력 데이터는 784열\n",
        "print(t_train.shape) #정답 레이블은 10줄 따리 데이터"
      ],
      "execution_count": 0,
      "outputs": []
    },
    {
      "cell_type": "code",
      "metadata": {
        "id": "QPmQYArz2Ddk",
        "colab_type": "code",
        "outputId": "4978866e-7a83-4095-86c8-d2256a292fe0",
        "colab": {
          "base_uri": "https://localhost:8080/",
          "height": 55
        }
      },
      "source": [
        "#무작위로 10장만 빼내는 코드\n",
        "train_size=x_train.shape[0]\n",
        "batch_size=10\n",
        "batch_mask=np.random.choice(train_size, batch_size)\n",
        "x_batch=x_train[batch_mask]\n",
        "t_batch=t_train[batch_mask]\n",
        "\n",
        "np.random.choice(60000,10)"
      ],
      "execution_count": 0,
      "outputs": [
        {
          "output_type": "execute_result",
          "data": {
            "text/plain": [
              "array([ 6757, 20190, 58185, 36222, 21196,  5812, 55490, 58770,  6699,\n",
              "       37390])"
            ]
          },
          "metadata": {
            "tags": []
          },
          "execution_count": 86
        }
      ]
    },
    {
      "cell_type": "markdown",
      "metadata": {
        "id": "wL2LY9wA2Q-L",
        "colab_type": "text"
      },
      "source": [
        "### 4.2.4 (배치용) 교차 엔트로피 오차 구현하기  "
      ]
    },
    {
      "cell_type": "code",
      "metadata": {
        "id": "T4Iikhy72JVp",
        "colab_type": "code",
        "colab": {}
      },
      "source": [
        "def cross_entropy_error(y,t):\n",
        "    if y.ndim==1:\n",
        "        t=t.reshape(1, t.size)\n",
        "        y=y.reshape(1, y.size)\n",
        "        \n",
        "    bath_size=y.shape[0]\n",
        "    return -np.sum(np.log(y[np.arange(batch_size),t]+1e-7))/batch_size"
      ],
      "execution_count": 0,
      "outputs": []
    },
    {
      "cell_type": "markdown",
      "metadata": {
        "id": "lYnl060w2cFQ",
        "colab_type": "text"
      },
      "source": [
        "* y: 신경망 출력  \n",
        "    y가 1차원이라면(데이터 하나당 교차 엔트로피 오차를 구하는 경우) reshape 함수로 데이터 형상을 바꿔줍니다.  \n",
        "    배치의 크기로 나눠 정규화하고 이미지 1장당 평균의 교차 엔트로피 오차를 계산합니다.\n",
        "* t: 정답 레이블"
      ]
    },
    {
      "cell_type": "markdown",
      "metadata": {
        "id": "m0qgyVot2cUD",
        "colab_type": "text"
      },
      "source": [
        "### 4.2.5 왜 손실 함수를 설정하는가?  \n",
        "\n",
        "* 궁극적인 목표: 높은 '정확도'를 끌어내는 매개변수 값을 찾는 것.  \n",
        "* 신경망 학습에서의 '미분'의 역할에 주목  \n",
        "    최적의 매개변수를 탐색 → 손실 함수의 값을 가능한 작게하는 매개변수 값을 찾음  \n",
        "    →매개병수의 미분 값을 단서로 매개변수의 값을 갱신하는 과정 반복\n",
        "* 미분 값이 음수이면 가중치 매개변수를 양의 방향으로 변화시켜 손실 함수의 값을 줄임  \n",
        "    미분 값이 양수이면 가중치 매개변수를 음의 방향으로 변화시켜 손실 함수의 값을 줄임  \n",
        "* 미분 값이 0 이면 가중치 매개변수의 갱신 멈춤 → '정확도'가 아닌 '손실 함수의 값'을 지표로 삼는 이유  \n",
        "    Ex1) 100장의 훈련 데이터 중 32장을 올바로 인식  \n",
        "    이때 정확도는 32%이지만 매개변수를 약간만 조정해서는 정확도가 개선되지 않고 개선된다 하더라도 불연속적인 값으로 바뀜  \n",
        "    '계단 함수'를 활성화 함수로 사용하지 않는 이유와도 일치"
      ]
    },
    {
      "cell_type": "markdown",
      "metadata": {
        "id": "2QTf1F0leBjZ",
        "colab_type": "text"
      },
      "source": [
        "## 4.3 수치미분  \n",
        "### 4.3.1 미분  \n",
        "* 파이썬에서 미분을 곧대로 구현하면 2가지 개선 사항이 있습니다.  \n",
        "\n",
        "1) 0으로 무한히 가까운 수를 대입하려고 매우 작은 수를 대입하면 반올림 오차 문제를 일으킵니다.  \n",
        "반올림 오차는 작은 값(소수점 8자리 이하)이 생략되어 최종 계산 결과에 오차가 생기게 합니다.  \n",
        "이 미세한 값으로 10^-4 정도의 값을 사용하면 좋은 결과를 얻는다고 알려져 있습니다."
      ]
    },
    {
      "cell_type": "code",
      "metadata": {
        "id": "KN8-GGWlhvOP",
        "colab_type": "code",
        "outputId": "d54190fb-b224-45f1-9109-33b3880a1530",
        "colab": {
          "base_uri": "https://localhost:8080/",
          "height": 36
        }
      },
      "source": [
        "np.float32(1e-50)"
      ],
      "execution_count": 0,
      "outputs": [
        {
          "output_type": "execute_result",
          "data": {
            "text/plain": [
              "0.0"
            ]
          },
          "metadata": {
            "tags": []
          },
          "execution_count": 5
        }
      ]
    },
    {
      "cell_type": "markdown",
      "metadata": {
        "id": "3mCu5m6Jisrd",
        "colab_type": "text"
      },
      "source": [
        "2) 두번 째 개선사항으로는 차분, 즉 임의의 두점에서의 함수 값들의 차이와 관련한 것입니다.  \n",
        "진정한 접선과 (x+h)와 x사이의 기울기는 엄밀히 일치하지 않습니다.  \n",
        "그에 따른 오차를 줄이기 위해 (x+h), (x-h) 일 때의 함수의 차분을 계산하는 방법을 쓰기도 합니다.(중심차분, 중앙 차분)"
      ]
    },
    {
      "cell_type": "code",
      "metadata": {
        "id": "gXVsJYnCixOg",
        "colab_type": "code",
        "colab": {}
      },
      "source": [
        "def numerical_diff(f,x):\n",
        "  h=1e-4\n",
        "  return (f(x+h)-f(x-h))/2*h"
      ],
      "execution_count": 0,
      "outputs": []
    },
    {
      "cell_type": "markdown",
      "metadata": {
        "id": "_LdXOA-qnQq-",
        "colab_type": "text"
      },
      "source": [
        "### 4.3.2 수치 미분의 예  \n",
        " * 수치 미분의 간단한 예  \n",
        " $$y=0.01x^2+0.1x$$"
      ]
    },
    {
      "cell_type": "code",
      "metadata": {
        "id": "TaEmfDF9kZ24",
        "colab_type": "code",
        "colab": {}
      },
      "source": [
        "def function_1(x):\n",
        "  return 0.01*x**2+0.1*x"
      ],
      "execution_count": 0,
      "outputs": []
    },
    {
      "cell_type": "code",
      "metadata": {
        "id": "81azMxeRnuqb",
        "colab_type": "code",
        "outputId": "5ab5fefc-b0a4-4f4f-db8c-391fb582e4eb",
        "colab": {
          "base_uri": "https://localhost:8080/",
          "height": 283
        }
      },
      "source": [
        "x=np.arange(0.0, 20.0, 0.1)\n",
        "y=function_1(x)\n",
        "plt.xlabel(\"x\")\n",
        "plt.ylabel(\"y\")\n",
        "plt.plot(x,y)\n",
        "plt.show()"
      ],
      "execution_count": 0,
      "outputs": [
        {
          "output_type": "display_data",
          "data": {
            "image/png": "[encoded data removed]",
            "text/plain": [
              "<Figure size 432x288 with 1 Axes>"
            ]
          },
          "metadata": {
            "tags": []
          }
        }
      ]
    },
    {
      "cell_type": "code",
      "metadata": {
        "id": "ec29fCUctH4V",
        "colab_type": "code",
        "outputId": "cfbeb0fe-27fa-4e3a-8a5f-d27b5c76335f",
        "colab": {
          "base_uri": "https://localhost:8080/",
          "height": 36
        }
      },
      "source": [
        "numerical_diff(function_1, 5)"
      ],
      "execution_count": 0,
      "outputs": [
        {
          "output_type": "execute_result",
          "data": {
            "text/plain": [
              "1.9999999999908982e-09"
            ]
          },
          "metadata": {
            "tags": []
          },
          "execution_count": 91
        }
      ]
    },
    {
      "cell_type": "code",
      "metadata": {
        "id": "4BBNY5rKtXF4",
        "colab_type": "code",
        "outputId": "1d884098-e29b-456f-8514-67e9eb44170a",
        "colab": {
          "base_uri": "https://localhost:8080/",
          "height": 36
        }
      },
      "source": [
        "numerical_diff(function_1, 10)"
      ],
      "execution_count": 0,
      "outputs": [
        {
          "output_type": "execute_result",
          "data": {
            "text/plain": [
              "2.999999999986347e-09"
            ]
          },
          "metadata": {
            "tags": []
          },
          "execution_count": 92
        }
      ]
    },
    {
      "cell_type": "markdown",
      "metadata": {
        "id": "q_XLBvJYtd4u",
        "colab_type": "text"
      },
      "source": [
        "이렇게 계산한 미분 값이 x에 대한 f(x)의 변화량, 즉 기울기입니다. 다음의 코드를 통해 접선에 해당하는 것을 확인할 수 있습니다."
      ]
    },
    {
      "cell_type": "code",
      "metadata": {
        "id": "uOoGzVvTtcXf",
        "colab_type": "code",
        "outputId": "57134a8f-7d04-4e8f-8206-d7e6e742f50b",
        "colab": {
          "base_uri": "https://localhost:8080/",
          "height": 288
        }
      },
      "source": [
        "def tangent_line(f, x):\n",
        "    d = numerical_diff(f, x)\n",
        "    print(d)\n",
        "    y = f(x) - d*x\n",
        "    return lambda t: d*t + y\n",
        "\n",
        "tf = tangent_line(function_1, 5)\n",
        "y2 = tf(x)\n",
        "plt.plot(x, y)\n",
        "plt.plot(x, y2)\n",
        "plt.show()"
      ],
      "execution_count": 101,
      "outputs": [
        {
          "output_type": "stream",
          "text": [
            "1.9999999999908982e-09\n"
          ],
          "name": "stdout"
        },
        {
          "output_type": "display_data",
          "data": {
            "image/png": "[encoded data removed]",
            "text/plain": [
              "<Figure size 432x288 with 1 Axes>"
            ]
          },
          "metadata": {
            "tags": []
          }
        }
      ]
    },
    {
      "cell_type": "markdown",
      "metadata": {
        "id": "pB-jF-zwusMG",
        "colab_type": "text"
      },
      "source": [
        "### 4.3.3 편미분  \n",
        "$$f(x_0,x_1)=x_0^2+x_1^2$$  \n",
        "이러한 식은 앞의 예와 달리 변수가 2개 입니다.  \n",
        "다음과 같이 구현할 수 있습니다."
      ]
    },
    {
      "cell_type": "code",
      "metadata": {
        "id": "-owT-bDGuh3h",
        "colab_type": "code",
        "colab": {}
      },
      "source": [
        "def function_2(x):\n",
        "  return x[0]**2+x[1]**2"
      ],
      "execution_count": 0,
      "outputs": []
    },
    {
      "cell_type": "markdown",
      "metadata": {
        "id": "Zp2Sre5hvesq",
        "colab_type": "text"
      },
      "source": [
        "편미분을 구하는 두 연습문제를 보겠습니다."
      ]
    },
    {
      "cell_type": "code",
      "metadata": {
        "id": "XxqSqJYPvcCN",
        "colab_type": "code",
        "outputId": "7f87c84d-c0ab-410f-ea33-03535cc108e0",
        "colab": {
          "base_uri": "https://localhost:8080/",
          "height": 36
        }
      },
      "source": [
        "#x_0=3 x_1=4 일때 x_0에 대한 편미분\n",
        "def function_tmp1(x0):\n",
        "  return x0*x0  + 4.0**2.0\n",
        "\n",
        "numerical_diff(function_tmp1, 3.0)"
      ],
      "execution_count": 0,
      "outputs": [
        {
          "output_type": "execute_result",
          "data": {
            "text/plain": [
              "6.000000000003781e-08"
            ]
          },
          "metadata": {
            "tags": []
          },
          "execution_count": 17
        }
      ]
    },
    {
      "cell_type": "code",
      "metadata": {
        "id": "ADjUI_VQwhPw",
        "colab_type": "code",
        "outputId": "031317c3-db2d-49cf-ef7d-6c1e38a8bc03",
        "colab": {
          "base_uri": "https://localhost:8080/",
          "height": 36
        }
      },
      "source": [
        " #x_0=3 x_1=4 일때 x_1에 대한 편미분\n",
        "def function_tmp2(x1):\n",
        "  return 3.0**2.0 + x1*x1\n",
        "\n",
        "numerical_diff(function_tmp2, 4.0)"
      ],
      "execution_count": 0,
      "outputs": [
        {
          "output_type": "execute_result",
          "data": {
            "text/plain": [
              "7.999999999999119e-08"
            ]
          },
          "metadata": {
            "tags": []
          },
          "execution_count": 18
        }
      ]
    },
    {
      "cell_type": "markdown",
      "metadata": {
        "id": "ahsMSEz5xMAJ",
        "colab_type": "text"
      },
      "source": [
        "## 4.4 기울기  \n",
        "x_0와 x_1의 편미분을 동시에 계산하는 방법  \n",
        "기울기 : 모든 변수의 편미분을 벡터로 정리 한 것. "
      ]
    },
    {
      "cell_type": "code",
      "metadata": {
        "id": "bku8v9uqw_Wn",
        "colab_type": "code",
        "colab": {}
      },
      "source": [
        "def numerical_gradient(f,x):\n",
        "  h=1e-4\n",
        "  grad = np.zeros_like(x)\n",
        "\n",
        "  for idx in range(x.size):\n",
        "    tmp_val=x[idx]\n",
        "\n",
        "    x[idx]=tmp_val + h\n",
        "    fxh1=f(x)\n",
        "\n",
        "    x[idx]=tmp_val - h\n",
        "    fxh2=f(x)\n",
        "\n",
        "    grad[idx]= (fxh1-fxh2)/(2*h)\n",
        "    x[idx]=tmp_val\n",
        "\n",
        "  return grad"
      ],
      "execution_count": 0,
      "outputs": []
    },
    {
      "cell_type": "code",
      "metadata": {
        "id": "d0k0RWAwylBE",
        "colab_type": "code",
        "outputId": "b64f3011-519a-4fe8-903c-782e0ec74734",
        "colab": {
          "base_uri": "https://localhost:8080/",
          "height": 36
        }
      },
      "source": [
        "numerical_gradient(function_2, np.array([3.0, 4.0]))"
      ],
      "execution_count": 0,
      "outputs": [
        {
          "output_type": "execute_result",
          "data": {
            "text/plain": [
              "array([6., 8.])"
            ]
          },
          "metadata": {
            "tags": []
          },
          "execution_count": 24
        }
      ]
    },
    {
      "cell_type": "code",
      "metadata": {
        "id": "sm9EM80Oy2ku",
        "colab_type": "code",
        "outputId": "2c2f71cd-b2a2-41a6-c5f2-204505f22bf2",
        "colab": {
          "base_uri": "https://localhost:8080/",
          "height": 36
        }
      },
      "source": [
        "numerical_gradient(function_2, np.array([0.0, 2.0]))"
      ],
      "execution_count": 0,
      "outputs": [
        {
          "output_type": "execute_result",
          "data": {
            "text/plain": [
              "array([0., 4.])"
            ]
          },
          "metadata": {
            "tags": []
          },
          "execution_count": 25
        }
      ]
    },
    {
      "cell_type": "code",
      "metadata": {
        "id": "uJgRyf54y53Y",
        "colab_type": "code",
        "outputId": "513a6a69-65b1-4841-e94f-a9c8e5bcf58d",
        "colab": {
          "base_uri": "https://localhost:8080/",
          "height": 36
        }
      },
      "source": [
        "numerical_gradient(function_2, np.array([3.0, 0.0]))"
      ],
      "execution_count": 0,
      "outputs": [
        {
          "output_type": "execute_result",
          "data": {
            "text/plain": [
              "array([6., 0.])"
            ]
          },
          "metadata": {
            "tags": []
          },
          "execution_count": 27
        }
      ]
    },
    {
      "cell_type": "markdown",
      "metadata": {
        "id": "iyBERDjYzaiN",
        "colab_type": "text"
      },
      "source": [
        "이 기울기를 그림으로 그려보면 다음과 같이 됩니다.  \n",
        "기울기는 함수의 최솟값을 향하고 있고 최솟값에서 멀어질수록 화살표의 크기가 커짐을 알 수 있습니다."
      ]
    },
    {
      "cell_type": "code",
      "metadata": {
        "id": "bL6NqpLczNYg",
        "colab_type": "code",
        "outputId": "d65fba5e-2d58-40ba-ae40-8bc9006fba6f",
        "colab": {
          "base_uri": "https://localhost:8080/",
          "height": 302
        }
      },
      "source": [
        "import numpy as np\n",
        "import matplotlib.pylab as plt\n",
        "from mpl_toolkits.mplot3d import Axes3D\n",
        "\n",
        "\n",
        "def _numerical_gradient_no_batch(f, x):\n",
        "    h = 1e-4 # 0.0001\n",
        "    grad = np.zeros_like(x) # x와 형상이 같은 배열을 생성\n",
        "    \n",
        "    for idx in range(x.size):\n",
        "        tmp_val = x[idx]\n",
        "        \n",
        "        # f(x+h) 계산\n",
        "        x[idx] = float(tmp_val) + h\n",
        "        fxh1 = f(x)\n",
        "        \n",
        "        # f(x-h) 계산\n",
        "        x[idx] = tmp_val - h \n",
        "        fxh2 = f(x) \n",
        "        \n",
        "        grad[idx] = (fxh1 - fxh2) / (2*h)\n",
        "        x[idx] = tmp_val # 값 복원\n",
        "        \n",
        "    return grad\n",
        "\n",
        "\n",
        "def numerical_gradient(f, X):\n",
        "    if X.ndim == 1:\n",
        "        return _numerical_gradient_no_batch(f, X)\n",
        "    else:\n",
        "        grad = np.zeros_like(X)\n",
        "        \n",
        "        for idx, x in enumerate(X):\n",
        "            grad[idx] = _numerical_gradient_no_batch(f, x)\n",
        "        \n",
        "        return grad\n",
        "\n",
        "\n",
        "def function_2(x):\n",
        "    if x.ndim == 1:\n",
        "        return np.sum(x**2)\n",
        "    else:\n",
        "        return np.sum(x**2, axis=1)\n",
        "\n",
        "\n",
        "def tangent_line(f, x):\n",
        "    d = numerical_gradient(f, x)\n",
        "    print(d)\n",
        "    y = f(x) - d*x\n",
        "    return lambda t: d*t + y\n",
        "     \n",
        "if __name__ == '__main__':\n",
        "    x0 = np.arange(-2, 2.5, 0.25)\n",
        "    x1 = np.arange(-2, 2.5, 0.25)\n",
        "    X, Y = np.meshgrid(x0, x1)\n",
        "    \n",
        "    X = X.flatten()\n",
        "    Y = Y.flatten()\n",
        "    \n",
        "    grad = numerical_gradient(function_2, np.array([X, Y]) )\n",
        "    \n",
        "    plt.figure()\n",
        "    plt.quiver(X, Y, -grad[0], -grad[1],  angles=\"xy\",color=\"#666666\")#,headwidth=10,scale=40,color=\"#444444\")\n",
        "    plt.xlim([-2, 2])\n",
        "    plt.ylim([-2, 2])\n",
        "    plt.xlabel('x0')\n",
        "    plt.ylabel('x1')\n",
        "    plt.grid()\n",
        "    plt.legend()\n",
        "    plt.draw()\n",
        "    plt.show()"
      ],
      "execution_count": 0,
      "outputs": [
        {
          "output_type": "stream",
          "text": [
            "No handles with labels found to put in legend.\n"
          ],
          "name": "stderr"
        },
        {
          "output_type": "display_data",
          "data": {
            "image/png": "[encoded data removed]",
            "text/plain": [
              "<Figure size 432x288 with 1 Axes>"
            ]
          },
          "metadata": {
            "tags": []
          }
        }
      ]
    },
    {
      "cell_type": "markdown",
      "metadata": {
        "id": "To_XDVbd0gUA",
        "colab_type": "text"
      },
      "source": [
        "### 4.4.1 경사법(경사 하강법)  \n",
        "* 신경망 학습 시 최적의 매개변수(가중치와 편향)을 찾아야 합니다.  \n",
        "→ 손실 함수가 최솟값이 될 때의 매개변수 값입니다.  \n",
        "이때 기울기를 잘 이용해 손실함수의 최솟값을 찾으려는 것이 경사법입니다.  \n",
        "\n",
        "* 주의 사항  \n",
        "기울기가 가리키는 곳이 항상 함수의 최솟값이 있다는 것을 보장할 수는 없습니다.  \n",
        "안장점이 되는 장소에서는 기울기가 0 하지만 함수의 최솟값은 아니다.  \n",
        "복잡하고 찌그러진 모양의 함수라면 평평한 곳으로 파고들면서 고원이라 하는 학습니 진행되지 않은 정체기에 빠질 수 있습니다.  \n",
        "\n",
        "* 경사법을 수식으로 나타내면 다음과 같습니다.  \n",
        "$$x_0=x_0-a\\frac{df}{dx_0}$$  \n",
        "$$x_1=x_1-a\\frac{df}{dx_1}$$  \n",
        "여기서 a는 학습률이라고 합니다.  \n",
        "학습률 값은 하이퍼 파라미터로 사람이 미리 특정 값으로 정해두어야 합니다. 너무 값이 크거나 작으면 최솟값으로 찾아갈 수 없습니다."
      ]
    },
    {
      "cell_type": "code",
      "metadata": {
        "id": "PvvoeBoCzTE8",
        "colab_type": "code",
        "colab": {}
      },
      "source": [
        "def gradient_descent(f, init_x, lr=0.01, step_num=100):\n",
        "  x=init_x\n",
        "\n",
        "  for i in range(step_num):\n",
        "    grad=numerical_gradient(f,x)\n",
        "    x-=lr*grad\n",
        "  \n",
        "  return x"
      ],
      "execution_count": 0,
      "outputs": []
    },
    {
      "cell_type": "code",
      "metadata": {
        "id": "HCWs_miWII3B",
        "colab_type": "code",
        "outputId": "5d042035-a6e1-4a3b-c7dc-df690baa387e",
        "colab": {
          "base_uri": "https://localhost:8080/",
          "height": 36
        }
      },
      "source": [
        "def function_2(x):\n",
        "  return x[0]**2+x[1]**2\n",
        "\n",
        "init_x=np.array([-3.0, 4.0])\n",
        "gradient_descent(function_2, init_x=init_x, lr=0.1, step_num=100)"
      ],
      "execution_count": 0,
      "outputs": [
        {
          "output_type": "execute_result",
          "data": {
            "text/plain": [
              "array([-6.11110793e-10,  8.14814391e-10])"
            ]
          },
          "metadata": {
            "tags": []
          },
          "execution_count": 21
        }
      ]
    },
    {
      "cell_type": "markdown",
      "metadata": {
        "id": "Rct73AFrKO9d",
        "colab_type": "text"
      },
      "source": [
        "### 4.4.2 신경망에서의 기울기  \n",
        "* 신경망 학습에서도 기울기를 구해야 합니다.  \n",
        "여기서 말하는 기울기는 가중치 매개변수에 대한 손실 함수의 기울기 입니다.  \n",
        "형상이 2*3이면 가중치가 W, 손실함수가 L인 신경망을 생각해보면 \\begin{pmatrix}\n",
        "W11 & W12 & W13 \\\\\n",
        "W21 & W22 & W23\n",
        "\\end{pmatrix} 과 같이 표현할수 있습니다.  \n",
        "이 경우 경사를 손실 함수를 각각의 가중치의 원소를 편미분을 한 형태로 표현할 수 있습니다.  \n",
        "각각의 의미는 예를 들어 W11을 조금 변경했을 때 손실 함수L이 얼마나 변화하느냐를 나타냅니다."
      ]
    },
    {
      "cell_type": "code",
      "metadata": {
        "id": "kDYd-1k7I0v3",
        "colab_type": "code",
        "colab": {}
      },
      "source": [
        "import sys\n",
        "import os\n",
        "sys.path.insert(0, '/content/gdrive/My Drive/Colab Notebooks/common')\n",
        "import numpy as np\n",
        "from functions import softmax, cross_entropy_error\n",
        "from gradient import numerical_gradient\n",
        "\n",
        "class simpleNet:\n",
        "  def __init__(self):\n",
        "    self.W = np.random.randn(2,3)\n",
        "\n",
        "  def predict(self,x):\n",
        "    return np.dot(x,self.W)\n",
        "\n",
        "  def loss(self, x, t):\n",
        "    z=self.predict(x)\n",
        "    y=softmax(z)\n",
        "    loss=cross_entropy_error(y,t)\n",
        "\n",
        "    return loss"
      ],
      "execution_count": 0,
      "outputs": []
    },
    {
      "cell_type": "code",
      "metadata": {
        "id": "R7BRupZU27d1",
        "colab_type": "code",
        "outputId": "4098799b-aa67-4307-e379-ec191c268da6",
        "colab": {
          "base_uri": "https://localhost:8080/",
          "height": 55
        }
      },
      "source": [
        "net=simpleNet()\n",
        "print(net.W)"
      ],
      "execution_count": 0,
      "outputs": [
        {
          "output_type": "stream",
          "text": [
            "[[-0.15405576  1.42247482 -0.98947284]\n",
            " [-0.56250113 -0.88389039  0.28860764]]\n"
          ],
          "name": "stdout"
        }
      ]
    },
    {
      "cell_type": "code",
      "metadata": {
        "id": "xB4NZl5s27UR",
        "colab_type": "code",
        "outputId": "ab207a7e-8140-4016-97b2-af05c2d08745",
        "colab": {
          "base_uri": "https://localhost:8080/",
          "height": 36
        }
      },
      "source": [
        "x=np.array([0.6,0.9])\n",
        "p=net.predict(x)\n",
        "print(p)"
      ],
      "execution_count": 0,
      "outputs": [
        {
          "output_type": "stream",
          "text": [
            "[-0.59868448  0.05798354 -0.33393683]\n"
          ],
          "name": "stdout"
        }
      ]
    },
    {
      "cell_type": "code",
      "metadata": {
        "id": "1AyCgDon3Wjx",
        "colab_type": "code",
        "outputId": "ab64301b-4d57-4352-c48d-3cf626dd1c98",
        "colab": {
          "base_uri": "https://localhost:8080/",
          "height": 36
        }
      },
      "source": [
        "np.argmax(p)"
      ],
      "execution_count": 0,
      "outputs": [
        {
          "output_type": "execute_result",
          "data": {
            "text/plain": [
              "1"
            ]
          },
          "metadata": {
            "tags": []
          },
          "execution_count": 40
        }
      ]
    },
    {
      "cell_type": "code",
      "metadata": {
        "id": "WchGYdXn3a-5",
        "colab_type": "code",
        "outputId": "41eb436a-c0e3-44f1-9d83-9ef2e60b16ab",
        "colab": {
          "base_uri": "https://localhost:8080/",
          "height": 36
        }
      },
      "source": [
        "t=np.array([0,0,1])\n",
        "net.loss(x,t)"
      ],
      "execution_count": 0,
      "outputs": [
        {
          "output_type": "execute_result",
          "data": {
            "text/plain": [
              "1.1777987488458423"
            ]
          },
          "metadata": {
            "tags": []
          },
          "execution_count": 41
        }
      ]
    },
    {
      "cell_type": "code",
      "metadata": {
        "id": "6Tk6F12T3juT",
        "colab_type": "code",
        "outputId": "3c4473f1-a84a-4928-a699-f8035deb6066",
        "colab": {
          "base_uri": "https://localhost:8080/",
          "height": 55
        }
      },
      "source": [
        "def f(W):\n",
        "  return net.loss(x,t)\n",
        "\n",
        "dW=numerical_gradient(f, net.W)\n",
        "print(dW)"
      ],
      "execution_count": 0,
      "outputs": [
        {
          "output_type": "stream",
          "text": [
            "[[ 0.14179504  0.27343136 -0.4152264 ]\n",
            " [ 0.21269255  0.41014704 -0.62283959]]\n"
          ],
          "name": "stdout"
        }
      ]
    },
    {
      "cell_type": "markdown",
      "metadata": {
        "id": "uU-C5agOR0b4",
        "colab_type": "text"
      },
      "source": [
        "## 4.5 학습 알고리즘 구현하기  \n",
        "* 신경망 학습의 절차  \n",
        "0. 신경망에는 적응 가능한 가중치와 편향이 있고, 이 가중치와 편향을 훈련 데이터에 적응하도록 조정하는 과정을 '학습'이라 합니다.  \n",
        "1. 미니배치  \n",
        "훈련 데이터 중 일부를 무작위로 가져옵니다. 이렇게 선별한 데이터를 미니배치라 하며, 그 미니배치의 손실함수 값을 줄이는 것이 목표입니다.  \n",
        "2. 기울기 산출  \n",
        "미니배치의 손실함수 값을 줄이기 위해 각 가중치 매개변수의 기울기를 구합니다. 기울기는 손실 함수의 값을 가장 작게 하는 방향을 제시합니다.  \n",
        "3. 매개변수 갱신  \n",
        "가중치 매개변수를 기울기 방향으로 아주 조금 갱신합니다.  \n",
        "4. 1-3 반복  \n",
        "\n",
        "### 4.5.1 2층 신경망 클래스 구현하기"
      ]
    },
    {
      "cell_type": "code",
      "metadata": {
        "id": "Z4K73KMb--O1",
        "colab_type": "code",
        "colab": {}
      },
      "source": [
        "class TwoLayerNet:\n",
        "\n",
        "    def __init__(self, input_size, hidden_size, output_size, weight_init_std=0.01):\n",
        "        # 가중치 초기화\n",
        "        self.params = {}\n",
        "        self.params['W1'] = weight_init_std * np.random.randn(input_size, hidden_size)\n",
        "        self.params['b1'] = np.zeros(hidden_size)\n",
        "        self.params['W2'] = weight_init_std * np.random.randn(hidden_size, output_size)\n",
        "        self.params['b2'] = np.zeros(output_size)\n",
        "\n",
        "    def predict(self, x):\n",
        "        W1, W2 = self.params['W1'], self.params['W2']\n",
        "        b1, b2 = self.params['b1'], self.params['b2']\n",
        "    \n",
        "        a1 = np.dot(x, W1) + b1\n",
        "        z1 = sigmoid(a1)\n",
        "        a2 = np.dot(z1, W2) + b2\n",
        "        y = softmax(a2)\n",
        "        \n",
        "        return y\n",
        "        \n",
        "    # x : 입력 데이터, t : 정답 레이블\n",
        "    def loss(self, x, t):\n",
        "        y = self.predict(x)\n",
        "        \n",
        "        return cross_entropy_error(y, t)\n",
        "    \n",
        "    def accuracy(self, x, t):\n",
        "        y = self.predict(x)\n",
        "        y = np.argmax(y, axis=1)\n",
        "        t = np.argmax(t, axis=1)\n",
        "        \n",
        "        accuracy = np.sum(y == t) / float(x.shape[0])\n",
        "        return accuracy\n",
        "        \n",
        "    # x : 입력 데이터, t : 정답 레이블\n",
        "    def numerical_gradient(self, x, t):\n",
        "        loss_W = lambda W: self.loss(x, t)\n",
        "        \n",
        "        grads = {}\n",
        "        grads['W1'] = numerical_gradient(loss_W, self.params['W1'])\n",
        "        grads['b1'] = numerical_gradient(loss_W, self.params['b1'])\n",
        "        grads['W2'] = numerical_gradient(loss_W, self.params['W2'])\n",
        "        grads['b2'] = numerical_gradient(loss_W, self.params['b2'])\n",
        "        \n",
        "        return grads\n",
        "        \n",
        "    def gradient(self, x, t):\n",
        "        W1, W2 = self.params['W1'], self.params['W2']\n",
        "        b1, b2 = self.params['b1'], self.params['b2']\n",
        "        grads = {}\n",
        "        \n",
        "        batch_num = x.shape[0]\n",
        "        \n",
        "        # forward\n",
        "        a1 = np.dot(x, W1) + b1\n",
        "        z1 = sigmoid(a1)\n",
        "        a2 = np.dot(z1, W2) + b2\n",
        "        y = softmax(a2)\n",
        "        \n",
        "        # backward\n",
        "        dy = (y - t) / batch_num\n",
        "        grads['W2'] = np.dot(z1.T, dy)\n",
        "        grads['b2'] = np.sum(dy, axis=0)\n",
        "        \n",
        "        da1 = np.dot(dy, W2.T)\n",
        "        dz1 = sigmoid_grad(a1) * da1\n",
        "        grads['W1'] = np.dot(x.T, dz1)\n",
        "        grads['b1'] = np.sum(dz1, axis=0)\n",
        "\n",
        "        return grads"
      ],
      "execution_count": 0,
      "outputs": []
    },
    {
      "cell_type": "code",
      "metadata": {
        "id": "nH-JwOFP_UhP",
        "colab_type": "code",
        "outputId": "eff9b352-f9ec-45fd-a6ea-5e3b66f0ce99",
        "colab": {
          "base_uri": "https://localhost:8080/",
          "height": 36
        }
      },
      "source": [
        "net = TwoLayerNet (input_size=784, hidden_size=100, output_size=10)\n",
        "net.params['W1'].shape # (784,100)\n",
        "net.params['b1'].shape # (100,)\n",
        "net.params['W2'].shape # (100, 10)\n",
        "net.params['b2'].shape # (10,)"
      ],
      "execution_count": 0,
      "outputs": [
        {
          "output_type": "execute_result",
          "data": {
            "text/plain": [
              "(10,)"
            ]
          },
          "metadata": {
            "tags": []
          },
          "execution_count": 61
        }
      ]
    },
    {
      "cell_type": "code",
      "metadata": {
        "id": "9yGVBVey_X64",
        "colab_type": "code",
        "colab": {}
      },
      "source": [
        "x=np.random.rand(100,784)\n",
        "y=net.predict(x)"
      ],
      "execution_count": 0,
      "outputs": []
    },
    {
      "cell_type": "code",
      "metadata": {
        "id": "BNIpfXOG_6FB",
        "colab_type": "code",
        "colab": {}
      },
      "source": [
        "x=np.random.rand(100,784)\n",
        "t=np.random.rand(100,10)\n",
        "\n",
        "grads=net.numerical_gradient(x,t)"
      ],
      "execution_count": 0,
      "outputs": []
    },
    {
      "cell_type": "code",
      "metadata": {
        "id": "l57N0i65Bqt-",
        "colab_type": "code",
        "outputId": "db21e791-b859-4344-d4e7-00a25d52b439",
        "colab": {
          "base_uri": "https://localhost:8080/",
          "height": 424
        }
      },
      "source": [
        "(x_train, t_train), (x_test, t_test)=\\\n",
        "  load_mnist(normalize=True, one_hot_label=True)\n",
        "\n",
        "train_loss_list=[]\n",
        "\n",
        "iters_num = 10000\n",
        "train_size=x_train.shape[0]\n",
        "batch_size= 1000\n",
        "learning_rate=0.1\n",
        "network=TwoLayerNet(input_size=784, hidden_size=50, output_size=10)\n",
        "\n",
        "for i in range(iters_num):\n",
        "  batch_mask=np.random.choice(train_size, batch_size)\n",
        "  x_batch=x_train[batch_mask]\n",
        "  t_batch=t_train[batch_mask]\n",
        "\n",
        "  grad=network.numerical_gradient(x_batch, t_batch)\n",
        "\n",
        "  for key in ('W1','b1','W2','b2'):\n",
        "    network.params[key] -= learning_rate * grad[key]\n",
        "\n",
        "  loss=network.loss(x_batch, t_batch)\n",
        "  train_loss_list.append(loss)"
      ],
      "execution_count": 102,
      "outputs": [
        {
          "output_type": "stream",
          "text": [
            "Downloading train-images-idx3-ubyte.gz ... \n"
          ],
          "name": "stdout"
        },
        {
          "output_type": "error",
          "ename": "OSError",
          "evalue": "ignored",
          "traceback": [
            "\u001b[0;31m---------------------------------------------------------------------------\u001b[0m",
            "\u001b[0;31mOSError\u001b[0m                                   Traceback (most recent call last)",
            "\u001b[0;32m<ipython-input-102-57bb5bb5c3a8>\u001b[0m in \u001b[0;36m<module>\u001b[0;34m()\u001b[0m\n\u001b[0;32m----> 1\u001b[0;31m \u001b[0;34m(\u001b[0m\u001b[0mx_train\u001b[0m\u001b[0;34m,\u001b[0m \u001b[0mt_train\u001b[0m\u001b[0;34m)\u001b[0m\u001b[0;34m,\u001b[0m \u001b[0;34m(\u001b[0m\u001b[0mx_test\u001b[0m\u001b[0;34m,\u001b[0m \u001b[0mt_test\u001b[0m\u001b[0;34m)\u001b[0m\u001b[0;34m=\u001b[0m  \u001b[0mload_mnist\u001b[0m\u001b[0;34m(\u001b[0m\u001b[0mnormalize\u001b[0m\u001b[0;34m=\u001b[0m\u001b[0;32mTrue\u001b[0m\u001b[0;34m,\u001b[0m \u001b[0mone_hot_label\u001b[0m\u001b[0;34m=\u001b[0m\u001b[0;32mTrue\u001b[0m\u001b[0;34m)\u001b[0m\u001b[0;34m\u001b[0m\u001b[0;34m\u001b[0m\u001b[0m\n\u001b[0m\u001b[1;32m      2\u001b[0m \u001b[0;34m\u001b[0m\u001b[0m\n\u001b[1;32m      3\u001b[0m \u001b[0mtrain_loss_list\u001b[0m\u001b[0;34m=\u001b[0m\u001b[0;34m[\u001b[0m\u001b[0;34m]\u001b[0m\u001b[0;34m\u001b[0m\u001b[0;34m\u001b[0m\u001b[0m\n\u001b[1;32m      4\u001b[0m \u001b[0;34m\u001b[0m\u001b[0m\n\u001b[1;32m      5\u001b[0m \u001b[0miters_num\u001b[0m \u001b[0;34m=\u001b[0m \u001b[0;36m10000\u001b[0m\u001b[0;34m\u001b[0m\u001b[0;34m\u001b[0m\u001b[0m\n",
            "\u001b[0;32m/content/gdrive/My Drive/Colab Notebooks/dataset/mnist.py\u001b[0m in \u001b[0;36mload_mnist\u001b[0;34m(normalize, flatten, one_hot_label)\u001b[0m\n",
            "\u001b[0;32m/content/gdrive/My Drive/Colab Notebooks/dataset/mnist.py\u001b[0m in \u001b[0;36minit_mnist\u001b[0;34m()\u001b[0m\n",
            "\u001b[0;32m/content/gdrive/My Drive/Colab Notebooks/dataset/mnist.py\u001b[0m in \u001b[0;36mdownload_mnist\u001b[0;34m()\u001b[0m\n",
            "\u001b[0;32m/content/gdrive/My Drive/Colab Notebooks/dataset/mnist.py\u001b[0m in \u001b[0;36m_download\u001b[0;34m(file_name)\u001b[0m\n",
            "\u001b[0;32m/usr/lib/python3.6/urllib/request.py\u001b[0m in \u001b[0;36murlretrieve\u001b[0;34m(url, filename, reporthook, data)\u001b[0m\n\u001b[1;32m    256\u001b[0m         \u001b[0;31m# Handle temporary file setup.\u001b[0m\u001b[0;34m\u001b[0m\u001b[0;34m\u001b[0m\u001b[0;34m\u001b[0m\u001b[0m\n\u001b[1;32m    257\u001b[0m         \u001b[0;32mif\u001b[0m \u001b[0mfilename\u001b[0m\u001b[0;34m:\u001b[0m\u001b[0;34m\u001b[0m\u001b[0;34m\u001b[0m\u001b[0m\n\u001b[0;32m--> 258\u001b[0;31m             \u001b[0mtfp\u001b[0m \u001b[0;34m=\u001b[0m \u001b[0mopen\u001b[0m\u001b[0;34m(\u001b[0m\u001b[0mfilename\u001b[0m\u001b[0;34m,\u001b[0m \u001b[0;34m'wb'\u001b[0m\u001b[0;34m)\u001b[0m\u001b[0;34m\u001b[0m\u001b[0;34m\u001b[0m\u001b[0m\n\u001b[0m\u001b[1;32m    259\u001b[0m         \u001b[0;32melse\u001b[0m\u001b[0;34m:\u001b[0m\u001b[0;34m\u001b[0m\u001b[0;34m\u001b[0m\u001b[0m\n\u001b[1;32m    260\u001b[0m             \u001b[0mtfp\u001b[0m \u001b[0;34m=\u001b[0m \u001b[0mtempfile\u001b[0m\u001b[0;34m.\u001b[0m\u001b[0mNamedTemporaryFile\u001b[0m\u001b[0;34m(\u001b[0m\u001b[0mdelete\u001b[0m\u001b[0;34m=\u001b[0m\u001b[0;32mFalse\u001b[0m\u001b[0;34m)\u001b[0m\u001b[0;34m\u001b[0m\u001b[0;34m\u001b[0m\u001b[0m\n",
            "\u001b[0;31mOSError\u001b[0m: [Errno 107] Transport endpoint is not connected: '/content/gdrive/My Drive/Colab Notebooks/dataset/train-images-idx3-ubyte.gz'"
          ]
        }
      ]
    },
    {
      "cell_type": "code",
      "metadata": {
        "id": "dsNZu7VkDbvx",
        "colab_type": "code",
        "colab": {}
      },
      "source": [
        "(x_train, t_train), (x_test, t_test)=\\\n",
        "  load_mnist(normalize=True, one_hot_label=True)\n",
        "\n",
        "train_loss_list=[]\n",
        "\n",
        "iters_num = 10000\n",
        "train_size=x_train.shape[0]\n",
        "batch_size= 1000\n",
        "learning_rate=0.1\n",
        "network=TwoLayerNet(input_size=784, hidden_size=50, output_size=10)\n",
        "\n",
        "train_loss_list=[]\n",
        "train_acc_list=[]\n",
        "test_acc_list=[]\n",
        "\n",
        "iter_per_epoch=max(train_size / batch_size, 1)\n",
        "\n",
        "for i in range(iters_num):\n",
        "  batch_mask=np.random.choice(train_size, batch_size)\n",
        "  x_batch=x_train[batch_mask]\n",
        "  t_batch=t_train[batch_mask]\n",
        "\n",
        "  grad=network.numerical_gradient(x_batch, t_batch)\n",
        "\n",
        "  for key in ('W1','b1','W2','b2'):\n",
        "    network.params[key] -= learning_rate * grad[key]\n",
        "\n",
        "  loss=network.loss(x_batch, t_batch)\n",
        "  train_loss_list.append(loss)\n",
        "\n",
        "  if i % iter_per_epoch==0:\n",
        "    train_acc=network.accuracy(x_train, t_train)\n",
        "    test_acc=network.accuracy(x_test, t_test)\n",
        "    train_acc_list.append(train_acc)\n",
        "    test_acc_list.append(test_acc)\n",
        "    print(\"trian acc, test acc |\"\n",
        "    + str(train_acc)+\",\"+str(test_acc))"
      ],
      "execution_count": 0,
      "outputs": []
    }
  ]
}