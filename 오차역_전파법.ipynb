{
  "nbformat": 4,
  "nbformat_minor": 0,
  "metadata": {
    "colab": {
      "name": "오차역 전파법.ipynb",
      "provenance": [],
      "collapsed_sections": [],
      "include_colab_link": true
    },
    "kernelspec": {
      "name": "python3",
      "display_name": "Python 3"
    }
  },
  "cells": [
    {
      "cell_type": "markdown",
      "metadata": {
        "id": "view-in-github",
        "colab_type": "text"
      },
      "source": [
        "<a href=\"https://colab.research.google.com/github/brianshin12/zeta/blob/master/%EC%98%A4%EC%B0%A8%EC%97%AD_%EC%A0%84%ED%8C%8C%EB%B2%95.ipynb\" target=\"_parent\"><img src=\"https://colab.research.google.com/assets/colab-badge.svg\" alt=\"Open In Colab\"/></a>"
      ]
    },
    {
      "cell_type": "markdown",
      "metadata": {
        "id": "QHwwnt5nSDaA",
        "colab_type": "text"
      },
      "source": [
        "# Chapter 5 오차역전파법  \n",
        "\n",
        "수치미분의 단점 : 시간이 오래 걸린다.  \n",
        "-가중치 매개변수의 기울기를 효율적으로 계산하는 '오차역전파법' 도입  \n",
        "\n",
        "## 계산 그래프로 풀다.  \n",
        "계산 그래프 : 계산 과정을 그래프로 나타낸 것.  \n",
        "곱과 합을 이용하여 왼쪽에서 오른쪽으로 계산을 진행; 순전파  \n",
        "↔역전파; 순전파의 반대방향의 전파, 미분을 계산할 때 중요한 역할.  \n",
        "\n",
        "## 국소적 계산  \n",
        "계산 그래프의 특징은 '국소적 계산'을 전파함으로써 최종 결과를 얻는다는 점입니다.  \n",
        "'국소적'이라는 말은 자신과 직접적으로 관계된 작은 범위라는 뜻  \n",
        "\n",
        "## 왜 계산 그래프를 이용하는가.  \n",
        "* 전체가 아무리 복잡해도 각 노드에서는 단순한 계산에 집중하여 문제를 단순화할 수 있습니다.  \n",
        "* 역전파를 통해 '미분'을 효율적으로 계산  \n",
        "\n",
        "## 연쇄법칙  \n",
        "합성함수 : 여러 함수로 구성된 함수  \n",
        "\"합성 함수의 미분은 합성 함수를 구성하는 각 함수의 미분의 곱으로 나타낼 수 있다.\"  \n",
        "$${\\partial z\\over\\partial x} = {\\partial z\\over\\partial t} {\\partial t\\over\\partial x}$$\n",
        " \n",
        " ### 덧셈 노드의 역전파\n",
        "(z=x+y) $${\\partial z\\over\\partial x}=1 \\quad {\\partial z\\over\\partial y}=1$$\n",
        "\n",
        " ### 곱셈 노드의 역전파\n",
        "(z=xy) $${\\partial z\\over\\partial x}=y \\quad {\\partial z\\over\\partial y}=x$$  \n",
        "\n",
        "  \n",
        "변수 각각이 최종 값에 어떠한 영향을 주느냐를 판단  \n",
        "Ex)사과 쇼핑의 역전파 예시  \n",
        "사과 가격의 미분 2.2, 소비세의 미분 200:  \n",
        "소비세가 200의 크기로, 사과 가격이 2.2의 크기로 영향을 줌(소비세 1은 100%, 사과 가격 1은 1원)"
      ]
    }
  ]
}