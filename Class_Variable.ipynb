{
  "nbformat": 4,
  "nbformat_minor": 0,
  "metadata": {
    "colab": {
      "name": "Class Variable.ipynb",
      "provenance": [],
      "collapsed_sections": [],
      "include_colab_link": true
    },
    "kernelspec": {
      "name": "python3",
      "display_name": "Python 3"
    }
  },
  "cells": [
    {
      "cell_type": "markdown",
      "metadata": {
        "id": "view-in-github",
        "colab_type": "text"
      },
      "source": [
        "<a href=\"https://colab.research.google.com/github/brianshin12/zeta/blob/master/Class_Variable.ipynb\" target=\"_parent\"><img src=\"https://colab.research.google.com/assets/colab-badge.svg\" alt=\"Open In Colab\"/></a>"
      ]
    },
    {
      "cell_type": "markdown",
      "metadata": {
        "id": "zbuS4occ4HYk",
        "colab_type": "text"
      },
      "source": [
        "### 클래스 변수"
      ]
    },
    {
      "cell_type": "code",
      "metadata": {
        "id": "T0Zqq-Hrravo",
        "colab_type": "code",
        "colab": {}
      },
      "source": [
        "class Family:\n",
        "  lastname='김'"
      ],
      "execution_count": 0,
      "outputs": []
    },
    {
      "cell_type": "code",
      "metadata": {
        "id": "iIE_daWhxDk0",
        "colab_type": "code",
        "colab": {
          "base_uri": "https://localhost:8080/",
          "height": 111
        },
        "outputId": "637a0b0c-402d-4658-96d4-8d69db5119c4"
      },
      "source": [
        "a=Family()\n",
        "b=Family()\n",
        "print(a.lastname)\n",
        "print(b.lastname)\n",
        "print(id(Family.lastname))\n",
        "print(id(a.lastname))\n",
        "print(id(b.lastname))"
      ],
      "execution_count": 31,
      "outputs": [
        {
          "output_type": "stream",
          "text": [
            "김\n",
            "김\n",
            "140103872191504\n",
            "140103872191504\n",
            "140103872191504\n"
          ],
          "name": "stdout"
        }
      ]
    },
    {
      "cell_type": "code",
      "metadata": {
        "id": "d_LDnuA10SC2",
        "colab_type": "code",
        "colab": {
          "base_uri": "https://localhost:8080/",
          "height": 36
        },
        "outputId": "d251959d-90e2-4401-d424-a9d345c60999"
      },
      "source": [
        "a.lastname is b.lastname"
      ],
      "execution_count": 33,
      "outputs": [
        {
          "output_type": "execute_result",
          "data": {
            "text/plain": [
              "True"
            ]
          },
          "metadata": {
            "tags": []
          },
          "execution_count": 33
        }
      ]
    },
    {
      "cell_type": "code",
      "metadata": {
        "id": "4tp8vMzJxRYk",
        "colab_type": "code",
        "colab": {
          "base_uri": "https://localhost:8080/",
          "height": 111
        },
        "outputId": "aaa7dcef-5a4e-4bb5-ca0c-115bad20bbe0"
      },
      "source": [
        "Family.lastname='박'\n",
        "print(a.lastname)\n",
        "print(b.lastname)\n",
        "print(id(Family.lastname))\n",
        "print(id(a.lastname))\n",
        "print(id(b.lastname))"
      ],
      "execution_count": 34,
      "outputs": [
        {
          "output_type": "stream",
          "text": [
            "박\n",
            "박\n",
            "140103871831616\n",
            "140103871831616\n",
            "140103871831616\n"
          ],
          "name": "stdout"
        }
      ]
    },
    {
      "cell_type": "code",
      "metadata": {
        "id": "iaGixvzGxs1X",
        "colab_type": "code",
        "colab": {
          "base_uri": "https://localhost:8080/",
          "height": 111
        },
        "outputId": "9c25b9a9-d953-478a-bd94-289c6847055e"
      },
      "source": [
        "a.lastname='최'\n",
        "print(a.lastname)\n",
        "print(b.lastname)\n",
        "print(id(Family.lastname))\n",
        "print(id(a.lastname))\n",
        "print(id(b.lastname))\n"
      ],
      "execution_count": 35,
      "outputs": [
        {
          "output_type": "stream",
          "text": [
            "최\n",
            "박\n",
            "140103871831616\n",
            "140103871831776\n",
            "140103871831616\n"
          ],
          "name": "stdout"
        }
      ]
    },
    {
      "cell_type": "markdown",
      "metadata": {
        "id": "X8V-s3uf4nWe",
        "colab_type": "text"
      },
      "source": [
        "a라는 객체에 영향을 준다하여 클래스나 객체, b에 영향이 가지않는 것을 알 수 있다.  \n",
        "a와b는 같은 클래스를 이용하여 객체를 생성하였지만 그 둘은 같은 것이 아니다.id(a)=id(b)를 실행시키면 False가 나오는 것을 보면 알 수 있다.   \n",
        "예를 들자면 같은 틀로 두 개의 빵을 만들어서 그 중 한 개의 빵에 변형을 가해도 다른 빵이나 틀에는 아무 영향이 없다.  \n",
        "객체a에 변경된 사항을 객체b에도 바로 적용되게 하기 위해선 다음과 같은 코드로 실행하면 된다."
      ]
    },
    {
      "cell_type": "code",
      "metadata": {
        "id": "0e_cfuf31NjF",
        "colab_type": "code",
        "colab": {}
      },
      "source": [
        "class family():\n",
        "  lastname='김'"
      ],
      "execution_count": 0,
      "outputs": []
    },
    {
      "cell_type": "code",
      "metadata": {
        "id": "1KnR-ZVf3JS0",
        "colab_type": "code",
        "colab": {}
      },
      "source": [
        "c=d=family()\n"
      ],
      "execution_count": 0,
      "outputs": []
    },
    {
      "cell_type": "code",
      "metadata": {
        "id": "pSAmoGr-3eks",
        "colab_type": "code",
        "colab": {
          "base_uri": "https://localhost:8080/",
          "height": 36
        },
        "outputId": "da7cfa28-eb53-4d29-a3cc-d2831de83f93"
      },
      "source": [
        "c.lastname"
      ],
      "execution_count": 67,
      "outputs": [
        {
          "output_type": "execute_result",
          "data": {
            "text/plain": [
              "'김'"
            ]
          },
          "metadata": {
            "tags": []
          },
          "execution_count": 67
        }
      ]
    },
    {
      "cell_type": "code",
      "metadata": {
        "id": "qqQ_JLvM3oqm",
        "colab_type": "code",
        "colab": {
          "base_uri": "https://localhost:8080/",
          "height": 36
        },
        "outputId": "45994bd9-9f5e-42e0-9704-2fd6ab0a9202"
      },
      "source": [
        "d.lastname"
      ],
      "execution_count": 68,
      "outputs": [
        {
          "output_type": "execute_result",
          "data": {
            "text/plain": [
              "'김'"
            ]
          },
          "metadata": {
            "tags": []
          },
          "execution_count": 68
        }
      ]
    },
    {
      "cell_type": "code",
      "metadata": {
        "id": "4bWRJSPS3pwK",
        "colab_type": "code",
        "colab": {}
      },
      "source": [
        "c.lastname='박'"
      ],
      "execution_count": 0,
      "outputs": []
    },
    {
      "cell_type": "code",
      "metadata": {
        "id": "cFZbo-gN3tmx",
        "colab_type": "code",
        "colab": {
          "base_uri": "https://localhost:8080/",
          "height": 36
        },
        "outputId": "b3920318-3118-479a-96ad-92b7d38590a8"
      },
      "source": [
        "d.lastname"
      ],
      "execution_count": 70,
      "outputs": [
        {
          "output_type": "execute_result",
          "data": {
            "text/plain": [
              "'박'"
            ]
          },
          "metadata": {
            "tags": []
          },
          "execution_count": 70
        }
      ]
    }
  ]
}