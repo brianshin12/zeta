{
  "nbformat": 4,
  "nbformat_minor": 0,
  "metadata": {
    "colab": {
      "name": "Assignment.ipynb",
      "provenance": [],
      "collapsed_sections": [],
      "include_colab_link": true
    },
    "kernelspec": {
      "name": "python3",
      "display_name": "Python 3"
    }
  },
  "cells": [
    {
      "cell_type": "markdown",
      "metadata": {
        "id": "view-in-github",
        "colab_type": "text"
      },
      "source": [
        "<a href=\"https://colab.research.google.com/github/brianshin12/zeta/blob/master/Assignment.ipynb\" target=\"_parent\"><img src=\"https://colab.research.google.com/assets/colab-badge.svg\" alt=\"Open In Colab\"/></a>"
      ]
    },
    {
      "cell_type": "markdown",
      "metadata": {
        "id": "23jKiLwObOac",
        "colab_type": "text"
      },
      "source": [
        "### 15108354 신현승 공학전상응용과제  \n",
        "___"
      ]
    },
    {
      "cell_type": "markdown",
      "metadata": {
        "id": "G429-gv5K1SN",
        "colab_type": "text"
      },
      "source": [
        "#### 이진법  \n",
        "이진법은 두 개(0, 1)의 숫자만을 이용하여 수를 나타내는 방법입니다.  \n",
        "예를 들어, 5를 이진법으로 표현하면 101(2)로 나타 내는데 2의 2승인 4와 2의 0승인 1의 합으로 이루어져 있습니다.  \n",
        "소수 또한 이진법으로 표현할 수 있습니다.  \n",
        "0.5를 이진법으로 표현하면 0.1(2) 즉 1/2입니다.  \n",
        "0.25를 이진법으로 표현하면 0.01(2) 즉 1/4입니다.  \n",
        "0.125를 이진법으로 표현하면 0.001(2) 즉 1/8입니다.  \n",
        "이러한 방법으로 소수를 이진법으로 표현할 수 있습니다. 또한 이러한 소수의 합으로 다양한 소수를 표현할 수 있습니다.  \n",
        "  \n",
        "#### 0.1 표현하기  \n",
        "0.0625+0.03125+0.00390625+0.0009765625+0.00048828125 =0.09937109375입니다.  \n",
        "0.00048828125 이후의 소수를 무한 등비수열의 합으로 계산하면 0.099859375입니다.  \n",
        "이를 이진법으로 나타내면 0.0001100101111111111111...(2)와 같은 형태가 됩니다.  \n",
        "#### 0.1 표현하기  \n",
        "0.0625+0.03125+0.00390625+0.0009765625+0.00048828125 =0.09937109375입니다.  \n",
        "0.00048828125 이후의 소수를 무한 등비수열의 합으로 계산하면 0.099859375입니다.  \n",
        "이를 이진법으로 나타내면 0.0001100101111111111111...(2)와 같은 형태가 됩니다.  \n",
        "어떠한 방법으로 하여도 0.1을 완벽하게 이진수로 표현할 수 없고 항상 무한소수를 이용한 근사값을 갖습니다.\n"
      ]
    }
  ]
}