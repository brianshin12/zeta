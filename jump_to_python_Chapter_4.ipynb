{
  "nbformat": 4,
  "nbformat_minor": 0,
  "metadata": {
    "colab": {
      "name": "jump to python Chapter 4.ipynb",
      "provenance": [],
      "collapsed_sections": [],
      "include_colab_link": true
    },
    "kernelspec": {
      "name": "python3",
      "display_name": "Python 3"
    }
  },
  "cells": [
    {
      "cell_type": "markdown",
      "metadata": {
        "id": "view-in-github",
        "colab_type": "text"
      },
      "source": [
        "<a href=\"https://colab.research.google.com/github/brianshin12/zeta/blob/master/jump_to_python_Chapter_4.ipynb\" target=\"_parent\"><img src=\"https://colab.research.google.com/assets/colab-badge.svg\" alt=\"Open In Colab\"/></a>"
      ]
    },
    {
      "cell_type": "markdown",
      "metadata": {
        "id": "M-YZ4TD0W97T",
        "colab_type": "text"
      },
      "source": [
        "* google drive 마운트"
      ]
    },
    {
      "cell_type": "code",
      "metadata": {
        "id": "QsG6k-xhXUqd",
        "colab_type": "code",
        "outputId": "7211f5c3-362e-4867-d3b3-505da9e0e6c3",
        "colab": {
          "base_uri": "https://localhost:8080/",
          "height": 131
        }
      },
      "source": [
        "from google.colab import drive\n",
        "drive.mount('/content/gdrive')"
      ],
      "execution_count": 0,
      "outputs": [
        {
          "output_type": "stream",
          "text": [
            "Go to this URL in a browser: https://accounts.google.com/o/oauth2/auth?client_id=947318989803-6bn6qk8qdgf4n4g3pfee6491hc0brc4i.apps.googleusercontent.com&redirect_uri=urn%3Aietf%3Awg%3Aoauth%3A2.0%3Aoob&scope=email%20https%3A%2F%2Fwww.googleapis.com%2Fauth%2Fdocs.test%20https%3A%2F%2Fwww.googleapis.com%2Fauth%2Fdrive%20https%3A%2F%2Fwww.googleapis.com%2Fauth%2Fdrive.photos.readonly%20https%3A%2F%2Fwww.googleapis.com%2Fauth%2Fpeopleapi.readonly&response_type=code\n",
            "\n",
            "Enter your authorization code:\n",
            "··········\n",
            "Mounted at /content/gdrive\n"
          ],
          "name": "stdout"
        }
      ]
    },
    {
      "cell_type": "markdown",
      "metadata": {
        "id": "Lh0oYJGuXkSS",
        "colab_type": "text"
      },
      "source": [
        "* 내 드라이브와 마운트"
      ]
    },
    {
      "cell_type": "code",
      "metadata": {
        "id": "ApeWGrl6X3dL",
        "colab_type": "code",
        "outputId": "1e732304-8c1e-47ca-f861-ab976e0002a5",
        "colab": {
          "base_uri": "https://localhost:8080/",
          "height": 36
        }
      },
      "source": [
        "from google.colab import drive \n",
        "drive.mount('/content/drive')"
      ],
      "execution_count": 0,
      "outputs": [
        {
          "output_type": "stream",
          "text": [
            "Mounted at /content/drive\n"
          ],
          "name": "stdout"
        }
      ]
    },
    {
      "cell_type": "markdown",
      "metadata": {
        "id": "J2L16Gn74K0W",
        "colab_type": "text"
      },
      "source": [
        "# 4장 연습문제"
      ]
    },
    {
      "cell_type": "markdown",
      "metadata": {
        "id": "1iD16rZ44OEt",
        "colab_type": "text"
      },
      "source": [
        "### Q1.주어진 자연수가 홀수인지 짝수인지 판별해 주는 함수(is_odd)를 작성해 보자."
      ]
    },
    {
      "cell_type": "code",
      "metadata": {
        "id": "aOKvgMM_3-39",
        "colab_type": "code",
        "colab": {}
      },
      "source": [
        "def is_odd():\n",
        "  a=int(input('자연수를 입력해주세요: '))\n",
        "  if a%2==0:\n",
        "    print (\"짝수입니다.\")\n",
        "  else:\n",
        "    print ('홀수입니다.')"
      ],
      "execution_count": 0,
      "outputs": []
    },
    {
      "cell_type": "code",
      "metadata": {
        "id": "yABJ5D0t5cv-",
        "colab_type": "code",
        "outputId": "7ccf088b-6694-45b6-ce14-ccd3f3aded16",
        "colab": {
          "base_uri": "https://localhost:8080/",
          "height": 53
        }
      },
      "source": [
        "is_odd()"
      ],
      "execution_count": 0,
      "outputs": [
        {
          "output_type": "stream",
          "text": [
            "자연수를 입력해주세요: 26\n",
            "짝수입니다.\n"
          ],
          "name": "stdout"
        }
      ]
    },
    {
      "cell_type": "markdown",
      "metadata": {
        "id": "RhlOcoRW50j1",
        "colab_type": "text"
      },
      "source": [
        "### Q2.입력으로 들어오는 모든 수의 평균 값을 계산해 주는 함수를 작성해 보자. (단 입력으로 들어오는 수의 개수는 정해져 있지 않다.)\n",
        "\n"
      ]
    },
    {
      "cell_type": "code",
      "metadata": {
        "id": "BYfPO7jy5mbM",
        "colab_type": "code",
        "colab": {}
      },
      "source": [
        "def avg(*args):\n",
        "  result=0\n",
        "  for i in args:\n",
        "    result += i\n",
        "  return result/len(args)"
      ],
      "execution_count": 0,
      "outputs": []
    },
    {
      "cell_type": "code",
      "metadata": {
        "id": "xRWbbzCM68Mz",
        "colab_type": "code",
        "outputId": "970464c9-b96f-4461-81e3-bd732e970696",
        "colab": {
          "base_uri": "https://localhost:8080/",
          "height": 35
        }
      },
      "source": [
        "avg(2,4,6)"
      ],
      "execution_count": 0,
      "outputs": [
        {
          "output_type": "execute_result",
          "data": {
            "text/plain": [
              "4.0"
            ]
          },
          "metadata": {
            "tags": []
          },
          "execution_count": 15
        }
      ]
    },
    {
      "cell_type": "markdown",
      "metadata": {
        "id": "LBR6p9PC8q17",
        "colab_type": "text"
      },
      "source": [
        "### Q3.다음은 두 개의 숫자를 입력받아 더하여 돌려주는 프로그램이다.\n",
        "\n"
      ]
    },
    {
      "cell_type": "code",
      "metadata": {
        "id": "vpUYLTAI8QGT",
        "colab_type": "code",
        "outputId": "9c0552b9-ea9a-4b3a-ef58-c6213fea2e17",
        "colab": {
          "base_uri": "https://localhost:8080/",
          "height": 71
        }
      },
      "source": [
        "input1 = input(\"첫번째 숫자를 입력하세요:\")\n",
        "input2 = input(\"두번째 숫자를 입력하세요:\")\n",
        "\n",
        "total = input1 + input2\n",
        "print(\"두 수의 합은 %s 입니다\" % total)"
      ],
      "execution_count": 0,
      "outputs": [
        {
          "output_type": "stream",
          "text": [
            "첫번째 숫자를 입력하세요:3\n",
            "두번째 숫자를 입력하세요:6\n",
            "두 수의 합은 36 입니다\n"
          ],
          "name": "stdout"
        }
      ]
    },
    {
      "cell_type": "markdown",
      "metadata": {
        "id": "Bbpd3ZJB85GR",
        "colab_type": "text"
      },
      "source": [
        "오류를 수정해보자."
      ]
    },
    {
      "cell_type": "code",
      "metadata": {
        "id": "iEQcRT2T82mx",
        "colab_type": "code",
        "outputId": "883a0e88-7395-4040-979e-94d782c25df2",
        "colab": {
          "base_uri": "https://localhost:8080/",
          "height": 71
        }
      },
      "source": [
        "input1 = int(input(\"첫번째 숫자를 입력하세요:\"))\n",
        "input2 = int(input(\"두번째 숫자를 입력하세요:\"))\n",
        "\n",
        "total = input1 + input2\n",
        "print(\"두 수의 합은 %s 입니다\" % total)"
      ],
      "execution_count": 0,
      "outputs": [
        {
          "output_type": "stream",
          "text": [
            "첫번째 숫자를 입력하세요:3\n",
            "두번째 숫자를 입력하세요:6\n",
            "두 수의 합은 9 입니다\n"
          ],
          "name": "stdout"
        }
      ]
    },
    {
      "cell_type": "markdown",
      "metadata": {
        "id": "rvpf8RpW916o",
        "colab_type": "text"
      },
      "source": [
        "### Q4.다음 중 출력 결과가 다른 것 한 개를 골라 보자.\n",
        "\n",
        ">print(\"you\" \"need\" \"python\")  \n",
        "print(\"you\"+\"need\"+\"python\")  \n",
        "print(\"you\", \"need\", \"python\")  \n",
        "print(\"\".join([\"you\", \"need\", \"python\"]))\n",
        "\n",
        "3번 뛰어쓰기가 되어있을 것이다."
      ]
    },
    {
      "cell_type": "code",
      "metadata": {
        "id": "lPXALs2v9zjo",
        "colab_type": "code",
        "outputId": "66d11d59-8616-43d1-bb62-68d6ee02df80",
        "colab": {
          "base_uri": "https://localhost:8080/",
          "height": 89
        }
      },
      "source": [
        "print(\"you\" \"need\" \"python\")\n",
        "print(\"you\"+\"need\"+\"python\")\n",
        "print(\"you\", \"need\", \"python\")\n",
        "print(\"\".join([\"you\", \"need\", \"python\"]))"
      ],
      "execution_count": 0,
      "outputs": [
        {
          "output_type": "stream",
          "text": [
            "youneedpython\n",
            "youneedpython\n",
            "you need python\n",
            "youneedpython\n"
          ],
          "name": "stdout"
        }
      ]
    },
    {
      "cell_type": "markdown",
      "metadata": {
        "id": "PXn5jC4F-5cX",
        "colab_type": "text"
      },
      "source": [
        "### Q5.다음은 \"test.txt\"라는 파일에 \"Life is too short\" 문자열을 저장한 후 다시 그 파일을 읽어서 출력하는 프로그램이다.\n",
        "\n"
      ]
    },
    {
      "cell_type": "code",
      "metadata": {
        "id": "WuG0k6rq-39e",
        "colab_type": "code",
        "outputId": "163d7d31-a3bb-4750-af77-2e7d834c361a",
        "colab": {
          "base_uri": "https://localhost:8080/",
          "height": 35
        }
      },
      "source": [
        "f1 = open(\"test.txt\", 'w')\n",
        "f1.write(\"Life is too short\")\n",
        "\n",
        "f2 = open(\"test.txt\", 'r')\n",
        "print(f2.read())"
      ],
      "execution_count": 0,
      "outputs": [
        {
          "output_type": "stream",
          "text": [
            "\n"
          ],
          "name": "stdout"
        }
      ]
    },
    {
      "cell_type": "markdown",
      "metadata": {
        "id": "iaZo6AUh_HJO",
        "colab_type": "text"
      },
      "source": [
        "수정하여 \"Life is too short\"가 출력되게 해보자."
      ]
    },
    {
      "cell_type": "code",
      "metadata": {
        "id": "7YCZjiaR_Fhm",
        "colab_type": "code",
        "outputId": "109cd50e-397d-4599-9fa2-543a3d4ef32b",
        "colab": {
          "base_uri": "https://localhost:8080/",
          "height": 35
        }
      },
      "source": [
        "f1 = open(\"test.txt\", 'w')\n",
        "f1.write(\"Life is too short\")\n",
        "f1.close()\n",
        "\n",
        "f2 = open(\"test.txt\", 'r')\n",
        "print(f2.read())"
      ],
      "execution_count": 0,
      "outputs": [
        {
          "output_type": "stream",
          "text": [
            "Life is too short\n"
          ],
          "name": "stdout"
        }
      ]
    },
    {
      "cell_type": "markdown",
      "metadata": {
        "id": "QmU0-DO_AHH3",
        "colab_type": "text"
      },
      "source": [
        "### Q6.사용자의 입력을 파일(test.txt)에 저장하는 프로그램을 작성해 보자. (단 프로그램을 다시 실행하더라도 기존에 작성한 내용을 유지하고 새로 입력한 내용을 추가해야 한다.)\n",
        "\n"
      ]
    },
    {
      "cell_type": "code",
      "metadata": {
        "id": "16RvsAjn_PmV",
        "colab_type": "code",
        "colab": {}
      },
      "source": [
        "def write_down():\n",
        "  user_input=input('추가할 내용을 입력해주세요.: ')\n",
        "  f=open('test.txt', 'a')\n",
        "  f.write(user_input + '\\n')\n",
        "  f.close()"
      ],
      "execution_count": 0,
      "outputs": []
    },
    {
      "cell_type": "code",
      "metadata": {
        "id": "M3I4oNYM_T40",
        "colab_type": "code",
        "outputId": "d5a02362-dac1-4464-c03d-935261fce51b",
        "colab": {
          "base_uri": "https://localhost:8080/",
          "height": 35
        }
      },
      "source": [
        "write_down()"
      ],
      "execution_count": 0,
      "outputs": [
        {
          "output_type": "stream",
          "text": [
            "추가할 내용을 입력해주세요.: 류기윤 교수님\n"
          ],
          "name": "stdout"
        }
      ]
    },
    {
      "cell_type": "code",
      "metadata": {
        "id": "4YD0PhcSDWwi",
        "colab_type": "code",
        "outputId": "99144550-fb46-4fc0-fdfa-98caad5031d0",
        "colab": {
          "base_uri": "https://localhost:8080/",
          "height": 35
        }
      },
      "source": [
        "write_down()"
      ],
      "execution_count": 0,
      "outputs": [
        {
          "output_type": "stream",
          "text": [
            "추가할 내용을 입력해주세요.: 사랑합니다.\n"
          ],
          "name": "stdout"
        }
      ]
    },
    {
      "cell_type": "code",
      "metadata": {
        "id": "qbztpffICjY5",
        "colab_type": "code",
        "outputId": "24e0253f-fd42-476f-b9df-8fb02ea0c31b",
        "colab": {
          "base_uri": "https://localhost:8080/",
          "height": 71
        }
      },
      "source": [
        "f=open('test.txt', 'r')\n",
        "a=f.read()\n",
        "print(a)\n",
        "f.close()"
      ],
      "execution_count": 0,
      "outputs": [
        {
          "output_type": "stream",
          "text": [
            "류기윤 교수님\n",
            "사랑합니다.\n",
            "\n"
          ],
          "name": "stdout"
        }
      ]
    },
    {
      "cell_type": "markdown",
      "metadata": {
        "id": "xX1hTcFiFI-I",
        "colab_type": "text"
      },
      "source": [
        "### Q7.다음과 같은 내용을 지닌 파일 test.txt가 있다. 이 파일의 내용 중 \"java\"라는 문자열을 \"python\"으로 바꾸어서 저장해 보자.  \n",
        ">Life is too short  \n",
        "you need java\n",
        "\n"
      ]
    },
    {
      "cell_type": "code",
      "metadata": {
        "id": "DwaqldbpC3Ni",
        "colab_type": "code",
        "colab": {}
      },
      "source": [
        "f=open('test.txt', 'w')\n",
        "f.write('Life is too short \\nyou need java')\n",
        "f.close()"
      ],
      "execution_count": 0,
      "outputs": []
    },
    {
      "cell_type": "code",
      "metadata": {
        "id": "-pl6P0YiH5yH",
        "colab_type": "code",
        "colab": {}
      },
      "source": [
        "f=open('test.txt', 'r')\n",
        "a=f.read()\n",
        "f.close()\n",
        "\n",
        "a=a.replace('java', 'python')\n",
        "\n",
        "f=open('test.txt', 'w')\n",
        "f.write(a)\n",
        "f.close()"
      ],
      "execution_count": 0,
      "outputs": []
    },
    {
      "cell_type": "code",
      "metadata": {
        "id": "wkXbYo6QIHTM",
        "colab_type": "code",
        "outputId": "0731faf8-47e1-4129-cfa7-c512a1f4c985",
        "colab": {
          "base_uri": "https://localhost:8080/",
          "height": 53
        }
      },
      "source": [
        "f=open('test.txt', 'r')\n",
        "b=f.read()\n",
        "print(b)\n",
        "f.close()"
      ],
      "execution_count": 0,
      "outputs": [
        {
          "output_type": "stream",
          "text": [
            "Life is too short \n",
            "you need python\n"
          ],
          "name": "stdout"
        }
      ]
    }
  ]
}